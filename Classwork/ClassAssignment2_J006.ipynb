{
  "nbformat": 4,
  "nbformat_minor": 0,
  "metadata": {
    "colab": {
      "name": "ClassAssignment2-J006.ipynb",
      "provenance": [],
      "include_colab_link": true
    },
    "kernelspec": {
      "name": "python3",
      "display_name": "Python 3"
    }
  },
  "cells": [
    {
      "cell_type": "markdown",
      "metadata": {
        "id": "view-in-github",
        "colab_type": "text"
      },
      "source": [
        "<a href=\"https://colab.research.google.com/github/nidhib99/NLP/blob/master/Classwork/ClassAssignment2_J006.ipynb\" target=\"_parent\"><img src=\"https://colab.research.google.com/assets/colab-badge.svg\" alt=\"Open In Colab\"/></a>"
      ]
    },
    {
      "cell_type": "code",
      "metadata": {
        "id": "aMHG7z8EO4sU",
        "colab_type": "code",
        "colab": {}
      },
      "source": [
        "import pandas as pd\n",
        "df = pd.read_json(\"http://snap.stanford.edu/data/amazon/productGraph/categoryFiles/reviews_Office_Products_5.json.gz\", lines = True)\n"
      ],
      "execution_count": 0,
      "outputs": []
    },
    {
      "cell_type": "code",
      "metadata": {
        "id": "YMTpPts1iHYe",
        "colab_type": "code",
        "outputId": "4c7421ee-42eb-4c03-8636-c16af1f8d90f",
        "colab": {
          "base_uri": "https://localhost:8080/",
          "height": 281
        }
      },
      "source": [
        "df.head(5)"
      ],
      "execution_count": 5,
      "outputs": [
        {
          "output_type": "execute_result",
          "data": {
            "text/html": [
              "<div>\n",
              "<style scoped>\n",
              "    .dataframe tbody tr th:only-of-type {\n",
              "        vertical-align: middle;\n",
              "    }\n",
              "\n",
              "    .dataframe tbody tr th {\n",
              "        vertical-align: top;\n",
              "    }\n",
              "\n",
              "    .dataframe thead th {\n",
              "        text-align: right;\n",
              "    }\n",
              "</style>\n",
              "<table border=\"1\" class=\"dataframe\">\n",
              "  <thead>\n",
              "    <tr style=\"text-align: right;\">\n",
              "      <th></th>\n",
              "      <th>reviewerID</th>\n",
              "      <th>asin</th>\n",
              "      <th>reviewerName</th>\n",
              "      <th>helpful</th>\n",
              "      <th>reviewText</th>\n",
              "      <th>overall</th>\n",
              "      <th>summary</th>\n",
              "      <th>unixReviewTime</th>\n",
              "      <th>reviewTime</th>\n",
              "    </tr>\n",
              "  </thead>\n",
              "  <tbody>\n",
              "    <tr>\n",
              "      <th>0</th>\n",
              "      <td>A32T2H8150OJLU</td>\n",
              "      <td>B00000JBLH</td>\n",
              "      <td>ARH</td>\n",
              "      <td>[3, 4]</td>\n",
              "      <td>I bought my first HP12C in about 1984 or so, a...</td>\n",
              "      <td>5</td>\n",
              "      <td>A solid performer, and long time friend</td>\n",
              "      <td>1094169600</td>\n",
              "      <td>09 3, 2004</td>\n",
              "    </tr>\n",
              "    <tr>\n",
              "      <th>1</th>\n",
              "      <td>A3MAFS04ZABRGO</td>\n",
              "      <td>B00000JBLH</td>\n",
              "      <td>Let it Be \"Alan\"</td>\n",
              "      <td>[7, 9]</td>\n",
              "      <td>WHY THIS BELATED REVIEW? I feel very obliged t...</td>\n",
              "      <td>5</td>\n",
              "      <td>Price of GOLD is up, so don't bury the golden ...</td>\n",
              "      <td>1197676800</td>\n",
              "      <td>12 15, 2007</td>\n",
              "    </tr>\n",
              "    <tr>\n",
              "      <th>2</th>\n",
              "      <td>A1F1A0QQP2XVH5</td>\n",
              "      <td>B00000JBLH</td>\n",
              "      <td>Mark B</td>\n",
              "      <td>[3, 3]</td>\n",
              "      <td>I have an HP 48GX that has been kicking for mo...</td>\n",
              "      <td>2</td>\n",
              "      <td>Good functionality, but not durable like old HPs</td>\n",
              "      <td>1293840000</td>\n",
              "      <td>01 1, 2011</td>\n",
              "    </tr>\n",
              "    <tr>\n",
              "      <th>3</th>\n",
              "      <td>A49R5DBXXQDE5</td>\n",
              "      <td>B00000JBLH</td>\n",
              "      <td>R. D Johnson</td>\n",
              "      <td>[7, 8]</td>\n",
              "      <td>I've started doing more finance stuff recently...</td>\n",
              "      <td>5</td>\n",
              "      <td>One of the last of an almost extinct species</td>\n",
              "      <td>1145404800</td>\n",
              "      <td>04 19, 2006</td>\n",
              "    </tr>\n",
              "    <tr>\n",
              "      <th>4</th>\n",
              "      <td>A2XRMQA6PJ5ZJ8</td>\n",
              "      <td>B00000JBLH</td>\n",
              "      <td>Roger J. Buffington</td>\n",
              "      <td>[0, 0]</td>\n",
              "      <td>For simple calculations and discounted cash fl...</td>\n",
              "      <td>5</td>\n",
              "      <td>Still the best</td>\n",
              "      <td>1375574400</td>\n",
              "      <td>08 4, 2013</td>\n",
              "    </tr>\n",
              "  </tbody>\n",
              "</table>\n",
              "</div>"
            ],
            "text/plain": [
              "       reviewerID        asin  ... unixReviewTime   reviewTime\n",
              "0  A32T2H8150OJLU  B00000JBLH  ...     1094169600   09 3, 2004\n",
              "1  A3MAFS04ZABRGO  B00000JBLH  ...     1197676800  12 15, 2007\n",
              "2  A1F1A0QQP2XVH5  B00000JBLH  ...     1293840000   01 1, 2011\n",
              "3   A49R5DBXXQDE5  B00000JBLH  ...     1145404800  04 19, 2006\n",
              "4  A2XRMQA6PJ5ZJ8  B00000JBLH  ...     1375574400   08 4, 2013\n",
              "\n",
              "[5 rows x 9 columns]"
            ]
          },
          "metadata": {
            "tags": []
          },
          "execution_count": 5
        }
      ]
    },
    {
      "cell_type": "code",
      "metadata": {
        "id": "LW16SCqQi1Nb",
        "colab_type": "code",
        "colab": {}
      },
      "source": [
        "vowels = ['a','e','i','o','u']"
      ],
      "execution_count": 0,
      "outputs": []
    },
    {
      "cell_type": "code",
      "metadata": {
        "id": "QU2iFkFdlZE5",
        "colab_type": "code",
        "colab": {}
      },
      "source": [
        "consonants = ['b', 'c', 'd', 'f', 'g', 'h', 'j', 'k', 'l', 'm', 'n', 'p', 'q', 'r', 's', 't', 'v', 'w', 'x', 'y', 'z']"
      ],
      "execution_count": 0,
      "outputs": []
    },
    {
      "cell_type": "code",
      "metadata": {
        "id": "NXo4snKOv3Ay",
        "colab_type": "code",
        "colab": {}
      },
      "source": [
        "import re\n",
        "import string"
      ],
      "execution_count": 0,
      "outputs": []
    },
    {
      "cell_type": "code",
      "metadata": {
        "id": "vpYaJRmAHfh2",
        "colab_type": "code",
        "colab": {}
      },
      "source": [
        "\"\"\"\n",
        "def Convert(string): \n",
        "    li = list(string.split(\" \")) \n",
        "    return li \n",
        "\n",
        "def punctuation2(text):\n",
        "  s = re.sub(r'[^\\w\\s]',' ',text)\n",
        "  \n",
        "  return Convert(s)\n",
        "\"\"\""
      ],
      "execution_count": 0,
      "outputs": []
    },
    {
      "cell_type": "code",
      "metadata": {
        "id": "0sNDB88UkCIe",
        "colab_type": "code",
        "colab": {}
      },
      "source": [
        "def details(sentence):\n",
        "  detail = dict()\n",
        "  sentence = sentence.lower()\n",
        "  count_vowels = 0\n",
        "  count_consonants = 0\n",
        "  word_count = 0\n",
        "  punctuations = ['''!()-[]{};:'\"\\,<>./?@#$%^&*_~''']\n",
        "\n",
        "  for i in sentence:\n",
        "    if i in vowels:\n",
        "      count_vowels = count_vowels+1\n",
        "    if i in consonants:\n",
        "      count_consonants = count_consonants+1\n",
        "    if i in punctuations:\n",
        "      sentence = sentence.replace(i, \" \")\n",
        "      \n",
        "  words = len(sentence.split()) \n",
        "  word_count = str(words)\n",
        "  \n",
        "  detail['vowel'] = count_vowels\n",
        "  detail['consonants'] = count_consonants\n",
        "  detail['words'] = word_count\n",
        "\n",
        "\n",
        "  return detail"
      ],
      "execution_count": 0,
      "outputs": []
    },
    {
      "cell_type": "code",
      "metadata": {
        "id": "sfS1uVCUo0Bq",
        "colab_type": "code",
        "outputId": "47642ab8-3e82-42c6-af62-de9075bcca6d",
        "colab": {
          "base_uri": "https://localhost:8080/",
          "height": 230
        }
      },
      "source": [
        "df['reviewText_details'] = df.reviewText.apply(details)\n",
        "df.reviewText_details"
      ],
      "execution_count": 88,
      "outputs": [
        {
          "output_type": "execute_result",
          "data": {
            "text/plain": [
              "0        {'vowel': 279, 'consonants': 437, 'words': '186'}\n",
              "1        {'vowel': 1504, 'consonants': 2685, 'words': '...\n",
              "2         {'vowel': 134, 'consonants': 235, 'words': '96'}\n",
              "3        {'vowel': 1089, 'consonants': 1775, 'words': '...\n",
              "4        {'vowel': 208, 'consonants': 338, 'words': '120'}\n",
              "                               ...                        \n",
              "53253    {'vowel': 236, 'consonants': 358, 'words': '146'}\n",
              "53254    {'vowel': 839, 'consonants': 1308, 'words': '4...\n",
              "53255    {'vowel': 422, 'consonants': 693, 'words': '290'}\n",
              "53256    {'vowel': 232, 'consonants': 335, 'words': '147'}\n",
              "53257    {'vowel': 582, 'consonants': 901, 'words': '337'}\n",
              "Name: reviewText_details, Length: 53258, dtype: object"
            ]
          },
          "metadata": {
            "tags": []
          },
          "execution_count": 88
        }
      ]
    },
    {
      "cell_type": "code",
      "metadata": {
        "id": "3lqWmWOdTclw",
        "colab_type": "code",
        "colab": {
          "base_uri": "https://localhost:8080/",
          "height": 230
        },
        "outputId": "6d8bcce5-5946-4402-f460-f9229733cfd3"
      },
      "source": [
        "df['summary_details'] = df.summary.apply(details)\n",
        "df.summary_details"
      ],
      "execution_count": 89,
      "outputs": [
        {
          "output_type": "execute_result",
          "data": {
            "text/plain": [
              "0         {'vowel': 12, 'consonants': 20, 'words': '7'}\n",
              "1        {'vowel': 14, 'consonants': 31, 'words': '13'}\n",
              "2         {'vowel': 15, 'consonants': 25, 'words': '8'}\n",
              "3         {'vowel': 14, 'consonants': 22, 'words': '9'}\n",
              "4           {'vowel': 3, 'consonants': 9, 'words': '3'}\n",
              "                              ...                      \n",
              "53253     {'vowel': 10, 'consonants': 14, 'words': '6'}\n",
              "53254    {'vowel': 32, 'consonants': 52, 'words': '17'}\n",
              "53255     {'vowel': 17, 'consonants': 28, 'words': '5'}\n",
              "53256      {'vowel': 8, 'consonants': 11, 'words': '4'}\n",
              "53257     {'vowel': 13, 'consonants': 15, 'words': '7'}\n",
              "Name: summary_details, Length: 53258, dtype: object"
            ]
          },
          "metadata": {
            "tags": []
          },
          "execution_count": 89
        }
      ]
    },
    {
      "cell_type": "code",
      "metadata": {
        "id": "wFoGaV0n9n4r",
        "colab_type": "code",
        "colab": {}
      },
      "source": [
        "#for words starting with b and words ending with g\n",
        "def letters(sentence):\n",
        "  letter = dict()\n",
        "\n",
        "  x = re.findall(r'\\b[bB]\\w+', sentence)\n",
        "  y = re.findall(r'\\w+[gG]\\b', sentence)\n",
        "\n",
        "  letter['b_start'] = x\n",
        "  letter['g_end'] = y\n",
        "\n",
        "  return letter"
      ],
      "execution_count": 0,
      "outputs": []
    },
    {
      "cell_type": "code",
      "metadata": {
        "id": "NR_bWDGE-XsT",
        "colab_type": "code",
        "colab": {}
      },
      "source": [
        "df['reviewText_regex'] = df.reviewText.apply(letters)"
      ],
      "execution_count": 0,
      "outputs": []
    },
    {
      "cell_type": "code",
      "metadata": {
        "id": "Y67ljMLv_dxh",
        "colab_type": "code",
        "colab": {
          "base_uri": "https://localhost:8080/",
          "height": 230
        },
        "outputId": "4b08251f-a364-4284-85a2-c78865b3d8f1"
      },
      "source": [
        "df.reviewText_regex"
      ],
      "execution_count": 15,
      "outputs": [
        {
          "output_type": "execute_result",
          "data": {
            "text/plain": [
              "0        {'b_start': ['bought', 'but', 'by', 'buy', 'bu...\n",
              "1        {'b_start': ['BELATED', 'burying', 'brandname'...\n",
              "2        {'b_start': ['been', 'But'], 'g_end': ['kickin...\n",
              "3        {'b_start': ['been', 'because', 'but', 'buy', ...\n",
              "4        {'b_start': ['best', 'business', 'but', 'be', ...\n",
              "                               ...                        \n",
              "53253    {'b_start': ['by', 'batteries', 'batteries', '...\n",
              "53254    {'b_start': ['based', 'best', 'but', 'be', 'by...\n",
              "53255    {'b_start': ['box', 'between', 'been', 'by', '...\n",
              "53256    {'b_start': ['books', 'batteries', 'buttons'],...\n",
              "53257    {'b_start': ['because', 'business', 'between',...\n",
              "Name: reviewText_regex, Length: 53258, dtype: object"
            ]
          },
          "metadata": {
            "tags": []
          },
          "execution_count": 15
        }
      ]
    }
  ]
}