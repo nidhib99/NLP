{
  "nbformat": 4,
  "nbformat_minor": 0,
  "metadata": {
    "colab": {
      "name": "ClassAssignment5.ipynb",
      "provenance": [],
      "collapsed_sections": [],
      "include_colab_link": true
    },
    "kernelspec": {
      "name": "python3",
      "display_name": "Python 3"
    }
  },
  "cells": [
    {
      "cell_type": "markdown",
      "metadata": {
        "id": "view-in-github",
        "colab_type": "text"
      },
      "source": [
        "<a href=\"https://colab.research.google.com/github/nidhib99/NLP/blob/master/Classwork/ClassAssignment5.ipynb\" target=\"_parent\"><img src=\"https://colab.research.google.com/assets/colab-badge.svg\" alt=\"Open In Colab\"/></a>"
      ]
    },
    {
      "cell_type": "code",
      "metadata": {
        "id": "NTjlZaAiVXgk",
        "colab_type": "code",
        "colab": {}
      },
      "source": [
        "import pandas as pd"
      ],
      "execution_count": 0,
      "outputs": []
    },
    {
      "cell_type": "code",
      "metadata": {
        "id": "JWWYJxgv68LX",
        "colab_type": "code",
        "colab": {}
      },
      "source": [
        "df=pd.read_json(\"http://snap.stanford.edu/data/amazon/productGraph/categoryFiles/reviews_Office_Products_5.json.gz\",lines=True)"
      ],
      "execution_count": 0,
      "outputs": []
    },
    {
      "cell_type": "code",
      "metadata": {
        "id": "e7wwHbjM7zTJ",
        "colab_type": "code",
        "outputId": "f1afeda5-af25-43d5-9fc2-9a62bdead986",
        "colab": {
          "base_uri": "https://localhost:8080/",
          "height": 55
        }
      },
      "source": [
        "print(df['reviewText'].iloc[0])"
      ],
      "execution_count": 0,
      "outputs": [
        {
          "output_type": "stream",
          "text": [
            "I bought my first HP12C in about 1984 or so, and it served me faithfully until 2002 when I lost it while travelling.  I searched for another one to replace it, but found one difficult to come by in my area.  So, I decided to buy up and purchased an HP 49G.  What a mistake!  I know that many people view the HP 49G (now 49G+) as the flagship of the HP line, but for me that was a disaster.The 49G may be powerful, but using it is extremely counterintuitive...and the manual was sketchy at best.  The 12C, on the other hand, does what I need in a way that makes good sense to me.If you are looking for a solid, reliable calculator, the HP12C may be for you.  It's programmable.  It does basic statistics well, and many business applications too.  The manual makes sense; you will be up and running in short order.I'm ready to set my 49G aside and move back to my old friend.  I didn't even have to replace the batteries in well over a decade of use!HP 12C, I'm coming home!\n"
          ],
          "name": "stdout"
        }
      ]
    },
    {
      "cell_type": "code",
      "metadata": {
        "id": "GVkiR3wV7EjP",
        "colab_type": "code",
        "colab": {}
      },
      "source": [
        "df1 = df[0:30]"
      ],
      "execution_count": 0,
      "outputs": []
    },
    {
      "cell_type": "code",
      "metadata": {
        "id": "q1tpN3vG7IXR",
        "colab_type": "code",
        "colab": {}
      },
      "source": [
        "from gensim.parsing.preprocessing import strip_punctuation,remove_stopwords"
      ],
      "execution_count": 0,
      "outputs": []
    },
    {
      "cell_type": "code",
      "metadata": {
        "id": "5ofNZnJF7R9q",
        "colab_type": "code",
        "outputId": "27392973-d7b0-4af7-a7c9-6f2f8e67ae03",
        "colab": {
          "base_uri": "https://localhost:8080/",
          "height": 124
        }
      },
      "source": [
        "df1['rT'] = df1['reviewText'].apply(strip_punctuation)"
      ],
      "execution_count": 0,
      "outputs": [
        {
          "output_type": "stream",
          "text": [
            "/usr/local/lib/python3.6/dist-packages/ipykernel_launcher.py:1: SettingWithCopyWarning: \n",
            "A value is trying to be set on a copy of a slice from a DataFrame.\n",
            "Try using .loc[row_indexer,col_indexer] = value instead\n",
            "\n",
            "See the caveats in the documentation: http://pandas.pydata.org/pandas-docs/stable/user_guide/indexing.html#returning-a-view-versus-a-copy\n",
            "  \"\"\"Entry point for launching an IPython kernel.\n"
          ],
          "name": "stderr"
        }
      ]
    },
    {
      "cell_type": "code",
      "metadata": {
        "id": "kGIpwf-07hcE",
        "colab_type": "code",
        "outputId": "c711f6b8-1ef3-4b6c-b67f-32993bf663de",
        "colab": {
          "base_uri": "https://localhost:8080/",
          "height": 124
        }
      },
      "source": [
        "df1['rT'] = df1['rT'].apply(remove_stopwords)"
      ],
      "execution_count": 0,
      "outputs": [
        {
          "output_type": "stream",
          "text": [
            "/usr/local/lib/python3.6/dist-packages/ipykernel_launcher.py:1: SettingWithCopyWarning: \n",
            "A value is trying to be set on a copy of a slice from a DataFrame.\n",
            "Try using .loc[row_indexer,col_indexer] = value instead\n",
            "\n",
            "See the caveats in the documentation: http://pandas.pydata.org/pandas-docs/stable/user_guide/indexing.html#returning-a-view-versus-a-copy\n",
            "  \"\"\"Entry point for launching an IPython kernel.\n"
          ],
          "name": "stderr"
        }
      ]
    },
    {
      "cell_type": "code",
      "metadata": {
        "id": "_xN3J2Bm8Bnc",
        "colab_type": "code",
        "outputId": "7ed1f8a4-d541-4e80-bcec-a487b72cc5a7",
        "colab": {
          "base_uri": "https://localhost:8080/",
          "height": 35
        }
      },
      "source": [
        "#for unique words\n",
        "results = set()\n",
        "df1['rT'].str.lower().str.split().apply(results.update)\n",
        "#print (results)\n",
        "print(len(results))\n",
        "results = list(results)"
      ],
      "execution_count": 0,
      "outputs": [
        {
          "output_type": "stream",
          "text": [
            "1086\n"
          ],
          "name": "stdout"
        }
      ]
    },
    {
      "cell_type": "code",
      "metadata": {
        "id": "W0O117jpJjmC",
        "colab_type": "code",
        "colab": {}
      },
      "source": [
        "result1 = results[0:10]"
      ],
      "execution_count": 0,
      "outputs": []
    },
    {
      "cell_type": "code",
      "metadata": {
        "id": "wUw-DQNPHOYM",
        "colab_type": "code",
        "outputId": "d956ed3c-ae9f-4402-9f86-3aec498ed99a",
        "colab": {
          "base_uri": "https://localhost:8080/",
          "height": 319
        }
      },
      "source": [
        "!pip install gensim"
      ],
      "execution_count": 0,
      "outputs": [
        {
          "output_type": "stream",
          "text": [
            "Requirement already satisfied: gensim in /usr/local/lib/python3.6/dist-packages (3.6.0)\n",
            "Requirement already satisfied: smart-open>=1.2.1 in /usr/local/lib/python3.6/dist-packages (from gensim) (1.9.0)\n",
            "Requirement already satisfied: scipy>=0.18.1 in /usr/local/lib/python3.6/dist-packages (from gensim) (1.3.3)\n",
            "Requirement already satisfied: six>=1.5.0 in /usr/local/lib/python3.6/dist-packages (from gensim) (1.12.0)\n",
            "Requirement already satisfied: numpy>=1.11.3 in /usr/local/lib/python3.6/dist-packages (from gensim) (1.17.4)\n",
            "Requirement already satisfied: boto>=2.32 in /usr/local/lib/python3.6/dist-packages (from smart-open>=1.2.1->gensim) (2.49.0)\n",
            "Requirement already satisfied: requests in /usr/local/lib/python3.6/dist-packages (from smart-open>=1.2.1->gensim) (2.21.0)\n",
            "Requirement already satisfied: boto3 in /usr/local/lib/python3.6/dist-packages (from smart-open>=1.2.1->gensim) (1.10.40)\n",
            "Requirement already satisfied: urllib3<1.25,>=1.21.1 in /usr/local/lib/python3.6/dist-packages (from requests->smart-open>=1.2.1->gensim) (1.24.3)\n",
            "Requirement already satisfied: idna<2.9,>=2.5 in /usr/local/lib/python3.6/dist-packages (from requests->smart-open>=1.2.1->gensim) (2.8)\n",
            "Requirement already satisfied: certifi>=2017.4.17 in /usr/local/lib/python3.6/dist-packages (from requests->smart-open>=1.2.1->gensim) (2019.11.28)\n",
            "Requirement already satisfied: chardet<3.1.0,>=3.0.2 in /usr/local/lib/python3.6/dist-packages (from requests->smart-open>=1.2.1->gensim) (3.0.4)\n",
            "Requirement already satisfied: jmespath<1.0.0,>=0.7.1 in /usr/local/lib/python3.6/dist-packages (from boto3->smart-open>=1.2.1->gensim) (0.9.4)\n",
            "Requirement already satisfied: botocore<1.14.0,>=1.13.40 in /usr/local/lib/python3.6/dist-packages (from boto3->smart-open>=1.2.1->gensim) (1.13.40)\n",
            "Requirement already satisfied: s3transfer<0.3.0,>=0.2.0 in /usr/local/lib/python3.6/dist-packages (from boto3->smart-open>=1.2.1->gensim) (0.2.1)\n",
            "Requirement already satisfied: docutils<0.16,>=0.10 in /usr/local/lib/python3.6/dist-packages (from botocore<1.14.0,>=1.13.40->boto3->smart-open>=1.2.1->gensim) (0.15.2)\n",
            "Requirement already satisfied: python-dateutil<2.8.1,>=2.1; python_version >= \"2.7\" in /usr/local/lib/python3.6/dist-packages (from botocore<1.14.0,>=1.13.40->boto3->smart-open>=1.2.1->gensim) (2.6.1)\n"
          ],
          "name": "stdout"
        }
      ]
    },
    {
      "cell_type": "code",
      "metadata": {
        "id": "0-pgoXubHrcl",
        "colab_type": "code",
        "colab": {}
      },
      "source": [
        "from gensim import models"
      ],
      "execution_count": 0,
      "outputs": []
    },
    {
      "cell_type": "code",
      "metadata": {
        "id": "HTcdCTeBJhFL",
        "colab_type": "code",
        "outputId": "716a7888-5fe6-45e6-c16a-e8f9bec0846c",
        "colab": {
          "base_uri": "https://localhost:8080/",
          "height": 195
        }
      },
      "source": [
        "result1"
      ],
      "execution_count": 0,
      "outputs": [
        {
          "output_type": "execute_result",
          "data": {
            "text/plain": [
              "['operate',\n",
              " 'backup',\n",
              " 'exams',\n",
              " 'occasionally',\n",
              " 'opportunity',\n",
              " 'counterintuitive',\n",
              " 'need',\n",
              " 'carpeted',\n",
              " 'decade',\n",
              " 'superb']"
            ]
          },
          "metadata": {
            "tags": []
          },
          "execution_count": 37
        }
      ]
    },
    {
      "cell_type": "code",
      "metadata": {
        "id": "2xWOzTuQT9S-",
        "colab_type": "code",
        "outputId": "65f0586b-5199-4efa-d52f-b975636cc617",
        "colab": {
          "base_uri": "https://localhost:8080/",
          "height": 55
        }
      },
      "source": [
        "from itertools import permutations \n",
        "perm = []\n",
        "perm = list(permutations(result1, 2))\n",
        "print(perm)"
      ],
      "execution_count": 0,
      "outputs": [
        {
          "output_type": "stream",
          "text": [
            "[('operate', 'backup'), ('operate', 'exams'), ('operate', 'occasionally'), ('operate', 'opportunity'), ('operate', 'counterintuitive'), ('operate', 'need'), ('operate', 'carpeted'), ('operate', 'decade'), ('operate', 'superb'), ('backup', 'operate'), ('backup', 'exams'), ('backup', 'occasionally'), ('backup', 'opportunity'), ('backup', 'counterintuitive'), ('backup', 'need'), ('backup', 'carpeted'), ('backup', 'decade'), ('backup', 'superb'), ('exams', 'operate'), ('exams', 'backup'), ('exams', 'occasionally'), ('exams', 'opportunity'), ('exams', 'counterintuitive'), ('exams', 'need'), ('exams', 'carpeted'), ('exams', 'decade'), ('exams', 'superb'), ('occasionally', 'operate'), ('occasionally', 'backup'), ('occasionally', 'exams'), ('occasionally', 'opportunity'), ('occasionally', 'counterintuitive'), ('occasionally', 'need'), ('occasionally', 'carpeted'), ('occasionally', 'decade'), ('occasionally', 'superb'), ('opportunity', 'operate'), ('opportunity', 'backup'), ('opportunity', 'exams'), ('opportunity', 'occasionally'), ('opportunity', 'counterintuitive'), ('opportunity', 'need'), ('opportunity', 'carpeted'), ('opportunity', 'decade'), ('opportunity', 'superb'), ('counterintuitive', 'operate'), ('counterintuitive', 'backup'), ('counterintuitive', 'exams'), ('counterintuitive', 'occasionally'), ('counterintuitive', 'opportunity'), ('counterintuitive', 'need'), ('counterintuitive', 'carpeted'), ('counterintuitive', 'decade'), ('counterintuitive', 'superb'), ('need', 'operate'), ('need', 'backup'), ('need', 'exams'), ('need', 'occasionally'), ('need', 'opportunity'), ('need', 'counterintuitive'), ('need', 'carpeted'), ('need', 'decade'), ('need', 'superb'), ('carpeted', 'operate'), ('carpeted', 'backup'), ('carpeted', 'exams'), ('carpeted', 'occasionally'), ('carpeted', 'opportunity'), ('carpeted', 'counterintuitive'), ('carpeted', 'need'), ('carpeted', 'decade'), ('carpeted', 'superb'), ('decade', 'operate'), ('decade', 'backup'), ('decade', 'exams'), ('decade', 'occasionally'), ('decade', 'opportunity'), ('decade', 'counterintuitive'), ('decade', 'need'), ('decade', 'carpeted'), ('decade', 'superb'), ('superb', 'operate'), ('superb', 'backup'), ('superb', 'exams'), ('superb', 'occasionally'), ('superb', 'opportunity'), ('superb', 'counterintuitive'), ('superb', 'need'), ('superb', 'carpeted'), ('superb', 'decade')]\n"
          ],
          "name": "stdout"
        }
      ]
    },
    {
      "cell_type": "code",
      "metadata": {
        "id": "9BFgt2MTI05l",
        "colab_type": "code",
        "colab": {}
      },
      "source": [
        "model = models.Word2Vec(perm)"
      ],
      "execution_count": 0,
      "outputs": []
    },
    {
      "cell_type": "code",
      "metadata": {
        "id": "h3Y4HNriUQNO",
        "colab_type": "code",
        "outputId": "c4e9bf98-1ed5-4431-94d6-3a282299b108",
        "colab": {
          "base_uri": "https://localhost:8080/",
          "height": 55
        }
      },
      "source": [
        "vocabulary = model.wv.vocab\n",
        "print(vocabulary)"
      ],
      "execution_count": 0,
      "outputs": [
        {
          "output_type": "stream",
          "text": [
            "{'operate': <gensim.models.keyedvectors.Vocab object at 0x7f6491c13ef0>, 'backup': <gensim.models.keyedvectors.Vocab object at 0x7f6491c258d0>, 'exams': <gensim.models.keyedvectors.Vocab object at 0x7f6491c25d68>, 'occasionally': <gensim.models.keyedvectors.Vocab object at 0x7f649203d390>, 'opportunity': <gensim.models.keyedvectors.Vocab object at 0x7f6491f01c88>, 'counterintuitive': <gensim.models.keyedvectors.Vocab object at 0x7f6491c4ff98>, 'need': <gensim.models.keyedvectors.Vocab object at 0x7f6491c4feb8>, 'carpeted': <gensim.models.keyedvectors.Vocab object at 0x7f6491c4f5f8>, 'decade': <gensim.models.keyedvectors.Vocab object at 0x7f64920b0278>, 'superb': <gensim.models.keyedvectors.Vocab object at 0x7f6491f91c50>}\n"
          ],
          "name": "stdout"
        }
      ]
    },
    {
      "cell_type": "code",
      "metadata": {
        "id": "lyEB5_1wjQv2",
        "colab_type": "code",
        "outputId": "9bf19cc9-be65-4315-9e57-9f8036b972fd",
        "colab": {
          "base_uri": "https://localhost:8080/",
          "height": 1000
        }
      },
      "source": [
        "for i in perm:\n",
        "  print((i[0],i[1]),model.similarity(i[0],i[1]))"
      ],
      "execution_count": 65,
      "outputs": [
        {
          "output_type": "stream",
          "text": [
            "('operate', 'backup') -0.060186435\n",
            "('operate', 'exams') 0.0056531616\n",
            "('operate', 'occasionally') -0.06192296\n",
            "('operate', 'opportunity') 0.07202754\n",
            "('operate', 'counterintuitive') 0.12910312\n",
            "('operate', 'need') 0.08068661\n",
            "('operate', 'carpeted') -0.0880724\n",
            "('operate', 'decade') 0.14984587\n",
            "('operate', 'superb') -0.13890079\n",
            "('backup', 'operate') -0.060186435\n",
            "('backup', 'exams') 0.005587261\n",
            "('backup', 'occasionally') -0.04833578\n",
            "('backup', 'opportunity') 0.079354376\n",
            "('backup', 'counterintuitive') -0.18806697\n",
            "('backup', 'need') 0.032467976\n",
            "('backup', 'carpeted') -0.0928669\n",
            "('backup', 'decade') -0.008180313\n",
            "('backup', 'superb') 0.18176292\n",
            "('exams', 'operate') 0.0056531616\n",
            "('exams', 'backup') 0.005587261\n",
            "('exams', 'occasionally') 0.15555622\n",
            "('exams', 'opportunity') -0.020406121\n",
            "('exams', 'counterintuitive') 0.088180125\n",
            "('exams', 'need') -0.03133381\n",
            "('exams', 'carpeted') 0.09920815\n",
            "('exams', 'decade') -0.011720476\n",
            "('exams', 'superb') -0.09981297\n",
            "('occasionally', 'operate') -0.06192296\n",
            "('occasionally', 'backup') -0.04833578\n",
            "('occasionally', 'exams') 0.15555622\n",
            "('occasionally', 'opportunity') 0.16978543\n",
            "('occasionally', 'counterintuitive') 0.10048935\n",
            "('occasionally', 'need') 0.04580872\n",
            "('occasionally', 'carpeted') 0.0132219745\n",
            "('occasionally', 'decade') -0.06048771\n",
            "('occasionally', 'superb') -0.08651525\n",
            "('opportunity', 'operate') 0.07202754\n",
            "('opportunity', 'backup') 0.079354376\n",
            "('opportunity', 'exams') -0.020406121\n",
            "('opportunity', 'occasionally') 0.16978543\n",
            "('opportunity', 'counterintuitive') -0.08154962\n",
            "('opportunity', 'need') 0.071937844\n",
            "('opportunity', 'carpeted') 0.07213361\n",
            "('opportunity', 'decade') -0.07031739\n",
            "('opportunity', 'superb') 0.018497745\n",
            "('counterintuitive', 'operate') 0.12910312\n",
            "('counterintuitive', 'backup') -0.18806697\n",
            "('counterintuitive', 'exams') 0.088180125\n",
            "('counterintuitive', 'occasionally') 0.10048935\n",
            "('counterintuitive', 'opportunity') -0.08154962\n",
            "('counterintuitive', 'need') -0.0040509426\n",
            "('counterintuitive', 'carpeted') 0.022531863\n",
            "('counterintuitive', 'decade') -0.013891343\n",
            "('counterintuitive', 'superb') -0.22436799\n",
            "('need', 'operate') 0.08068661\n",
            "('need', 'backup') 0.032467976\n",
            "('need', 'exams') -0.03133381\n",
            "('need', 'occasionally') 0.04580872\n",
            "('need', 'opportunity') 0.071937844\n",
            "('need', 'counterintuitive') -0.0040509426\n",
            "('need', 'carpeted') 0.081040174\n",
            "('need', 'decade') 0.080345705\n",
            "('need', 'superb') 0.08738141\n",
            "('carpeted', 'operate') -0.0880724\n",
            "('carpeted', 'backup') -0.0928669\n",
            "('carpeted', 'exams') 0.09920815\n",
            "('carpeted', 'occasionally') 0.0132219745\n",
            "('carpeted', 'opportunity') 0.07213361\n",
            "('carpeted', 'counterintuitive') 0.022531863\n",
            "('carpeted', 'need') 0.081040174\n",
            "('carpeted', 'decade') 0.12365154\n",
            "('carpeted', 'superb') 0.13156816\n",
            "('decade', 'operate') 0.14984587\n",
            "('decade', 'backup') -0.008180313\n",
            "('decade', 'exams') -0.011720476\n",
            "('decade', 'occasionally') -0.06048771\n",
            "('decade', 'opportunity') -0.07031739\n",
            "('decade', 'counterintuitive') -0.013891343\n",
            "('decade', 'need') 0.080345705\n",
            "('decade', 'carpeted') 0.12365154\n",
            "('decade', 'superb') -0.0036716168\n",
            "('superb', 'operate') -0.13890079\n",
            "('superb', 'backup') 0.18176292\n",
            "('superb', 'exams') -0.09981297\n",
            "('superb', 'occasionally') -0.08651525\n",
            "('superb', 'opportunity') 0.018497745\n",
            "('superb', 'counterintuitive') -0.22436799\n",
            "('superb', 'need') 0.08738141\n",
            "('superb', 'carpeted') 0.13156816\n",
            "('superb', 'decade') -0.0036716168\n"
          ],
          "name": "stdout"
        },
        {
          "output_type": "stream",
          "text": [
            "/usr/local/lib/python3.6/dist-packages/ipykernel_launcher.py:2: DeprecationWarning: Call to deprecated `similarity` (Method will be removed in 4.0.0, use self.wv.similarity() instead).\n",
            "  \n",
            "/usr/local/lib/python3.6/dist-packages/gensim/matutils.py:737: FutureWarning: Conversion of the second argument of issubdtype from `int` to `np.signedinteger` is deprecated. In future, it will be treated as `np.int64 == np.dtype(int).type`.\n",
            "  if np.issubdtype(vec.dtype, np.int):\n"
          ],
          "name": "stderr"
        }
      ]
    }
  ]
}