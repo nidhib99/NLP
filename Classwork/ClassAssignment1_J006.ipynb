{
  "nbformat": 4,
  "nbformat_minor": 0,
  "metadata": {
    "colab": {
      "name": "ClassAssignment1-J006.ipynb",
      "provenance": [],
      "collapsed_sections": []
    },
    "kernelspec": {
      "name": "python3",
      "display_name": "Python 3"
    }
  },
  "cells": [
    {
      "cell_type": "code",
      "metadata": {
        "id": "CotK76yKwxFo",
        "colab_type": "code",
        "outputId": "ba3fb00e-6173-46d8-979c-b15c1006a4d6",
        "colab": {
          "base_uri": "https://localhost:8080/",
          "height": 34
        }
      },
      "source": [
        "def prime(n):\n",
        "  a = []\n",
        "  i = int(2)\n",
        "  while (len(a)<n):\n",
        "    count = 0\n",
        "    for j in range (1,int(i**(1/2) + 1)):\n",
        "      if (i%j == 0):\n",
        "        count += 1\n",
        "\n",
        "    if (count==1):\n",
        "      a.append(i)\n",
        "    i = i+1\n",
        "  return a[-1]\n",
        "\n",
        "\n",
        "print(prime(100))"
      ],
      "execution_count": 1,
      "outputs": [
        {
          "output_type": "stream",
          "text": [
            "541\n"
          ],
          "name": "stdout"
        }
      ]
    }
  ]
}