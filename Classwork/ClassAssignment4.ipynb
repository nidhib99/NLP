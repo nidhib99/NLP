{
  "nbformat": 4,
  "nbformat_minor": 0,
  "metadata": {
    "colab": {
      "name": "ClassAssignment4.ipynb",
      "provenance": [],
      "include_colab_link": true
    },
    "kernelspec": {
      "name": "python3",
      "display_name": "Python 3"
    }
  },
  "cells": [
    {
      "cell_type": "markdown",
      "metadata": {
        "id": "view-in-github",
        "colab_type": "text"
      },
      "source": [
        "<a href=\"https://colab.research.google.com/github/nidhib99/NLP/blob/master/Classwork/ClassAssignment4.ipynb\" target=\"_parent\"><img src=\"https://colab.research.google.com/assets/colab-badge.svg\" alt=\"Open In Colab\"/></a>"
      ]
    },
    {
      "cell_type": "code",
      "metadata": {
        "id": "GWaj4WuDz5bG",
        "colab_type": "code",
        "outputId": "d6dce597-62ce-4e4c-f8af-f430d6352f89",
        "colab": {
          "base_uri": "https://localhost:8080/",
          "height": 248
        }
      },
      "source": [
        "import pandas as pd\n",
        "import urllib, json\n",
        "df=pd.read_csv(\"https://raw.githubusercontent.com/zfz/twitter_corpus/master/full-corpus.csv\")\n",
        "#df=df.head(3)\n",
        "print(df['Sentiment'])\n",
        "df.shape"
      ],
      "execution_count": 85,
      "outputs": [
        {
          "output_type": "stream",
          "text": [
            "0         positive\n",
            "1         positive\n",
            "2         positive\n",
            "3         positive\n",
            "4         positive\n",
            "           ...    \n",
            "5108    irrelevant\n",
            "5109    irrelevant\n",
            "5110    irrelevant\n",
            "5111    irrelevant\n",
            "5112    irrelevant\n",
            "Name: Sentiment, Length: 5113, dtype: object\n"
          ],
          "name": "stdout"
        },
        {
          "output_type": "execute_result",
          "data": {
            "text/plain": [
              "(5113, 5)"
            ]
          },
          "metadata": {
            "tags": []
          },
          "execution_count": 85
        }
      ]
    },
    {
      "cell_type": "code",
      "metadata": {
        "id": "AarO69pDXU32",
        "colab_type": "code",
        "colab": {
          "base_uri": "https://localhost:8080/",
          "height": 35
        },
        "outputId": "a9c84c39-bfed-453c-d4fb-7db1b709248a"
      },
      "source": [
        "df['Sentiment'] = pd.Categorical(df['Sentiment'])\n",
        "df['Sentiment'].cat.categories"
      ],
      "execution_count": 86,
      "outputs": [
        {
          "output_type": "execute_result",
          "data": {
            "text/plain": [
              "Index(['irrelevant', 'negative', 'neutral', 'positive'], dtype='object')"
            ]
          },
          "metadata": {
            "tags": []
          },
          "execution_count": 86
        }
      ]
    },
    {
      "cell_type": "code",
      "metadata": {
        "id": "xHHJiFqzU9Ns",
        "colab_type": "code",
        "colab": {
          "base_uri": "https://localhost:8080/",
          "height": 35
        },
        "outputId": "11232f68-e9a2-4b38-c976-f7bb1cdc9f20"
      },
      "source": [
        "indexNames = df[ df['Sentiment'] == 'irrelevant' ].index\n",
        " \n",
        "# Delete these row indexes from dataFrame\n",
        "df.drop(indexNames , inplace=True)\n",
        "df.shape"
      ],
      "execution_count": 87,
      "outputs": [
        {
          "output_type": "execute_result",
          "data": {
            "text/plain": [
              "(3424, 5)"
            ]
          },
          "metadata": {
            "tags": []
          },
          "execution_count": 87
        }
      ]
    },
    {
      "cell_type": "code",
      "metadata": {
        "id": "1Wj3gs7K0SI3",
        "colab_type": "code",
        "colab": {}
      },
      "source": [
        "df1 = df[0:30]"
      ],
      "execution_count": 0,
      "outputs": []
    },
    {
      "cell_type": "code",
      "metadata": {
        "colab_type": "code",
        "id": "bAxHWtX_3r_-",
        "colab": {}
      },
      "source": [
        "df2=pd.read_json(\"http://snap.stanford.edu/data/amazon/productGraph/categoryFiles/reviews_Office_Products_5.json.gz\",lines=True)"
      ],
      "execution_count": 0,
      "outputs": []
    },
    {
      "cell_type": "code",
      "metadata": {
        "id": "bNciB4ym3svW",
        "colab_type": "code",
        "colab": {}
      },
      "source": [
        "df3 = df2[0:30]"
      ],
      "execution_count": 0,
      "outputs": []
    },
    {
      "cell_type": "code",
      "metadata": {
        "id": "M_LvgYNB4Jk4",
        "colab_type": "code",
        "outputId": "75b6ec92-52c6-4a17-e79e-ec08407b2459",
        "colab": {
          "base_uri": "https://localhost:8080/",
          "height": 106
        }
      },
      "source": [
        "!pip install vaderSentiment"
      ],
      "execution_count": 8,
      "outputs": [
        {
          "output_type": "stream",
          "text": [
            "Collecting vaderSentiment\n",
            "\u001b[?25l  Downloading https://files.pythonhosted.org/packages/86/9e/c53e1fc61aac5ee490a6ac5e21b1ac04e55a7c2aba647bb8411c9aadf24e/vaderSentiment-3.2.1-py2.py3-none-any.whl (125kB)\n",
            "\r\u001b[K     |██▋                             | 10kB 19.8MB/s eta 0:00:01\r\u001b[K     |█████▏                          | 20kB 1.8MB/s eta 0:00:01\r\u001b[K     |███████▉                        | 30kB 2.7MB/s eta 0:00:01\r\u001b[K     |██████████▍                     | 40kB 1.8MB/s eta 0:00:01\r\u001b[K     |█████████████                   | 51kB 2.2MB/s eta 0:00:01\r\u001b[K     |███████████████▋                | 61kB 2.6MB/s eta 0:00:01\r\u001b[K     |██████████████████▎             | 71kB 3.0MB/s eta 0:00:01\r\u001b[K     |████████████████████▉           | 81kB 3.4MB/s eta 0:00:01\r\u001b[K     |███████████████████████▍        | 92kB 3.8MB/s eta 0:00:01\r\u001b[K     |██████████████████████████      | 102kB 2.9MB/s eta 0:00:01\r\u001b[K     |████████████████████████████▋   | 112kB 2.9MB/s eta 0:00:01\r\u001b[K     |███████████████████████████████▎| 122kB 2.9MB/s eta 0:00:01\r\u001b[K     |████████████████████████████████| 133kB 2.9MB/s \n",
            "\u001b[?25hInstalling collected packages: vaderSentiment\n",
            "Successfully installed vaderSentiment-3.2.1\n"
          ],
          "name": "stdout"
        }
      ]
    },
    {
      "cell_type": "code",
      "metadata": {
        "id": "JcSAVWLX3vH3",
        "colab_type": "code",
        "outputId": "35863c39-2f19-43d1-ace6-bc2aa3f13893",
        "colab": {
          "base_uri": "https://localhost:8080/",
          "height": 675
        }
      },
      "source": [
        "from vaderSentiment.vaderSentiment import SentimentIntensityAnalyzer\n",
        "import re\n",
        "import string\n",
        "analyzer = SentimentIntensityAnalyzer()\n",
        "\n",
        "def sentiment_analyzer_scores(text):\n",
        "    score = analyzer.polarity_scores(text)\n",
        "    keymax = max(score, key=score.get) \n",
        "    \n",
        "    return score,keymax\n",
        "\n",
        "\n",
        "df3['reviewTextscore'] = df3['reviewText'].apply(sentiment_analyzer_scores)\n",
        "df3['reviewTextscore']"
      ],
      "execution_count": 92,
      "outputs": [
        {
          "output_type": "stream",
          "text": [
            "/usr/local/lib/python3.6/dist-packages/ipykernel_launcher.py:13: SettingWithCopyWarning: \n",
            "A value is trying to be set on a copy of a slice from a DataFrame.\n",
            "Try using .loc[row_indexer,col_indexer] = value instead\n",
            "\n",
            "See the caveats in the documentation: http://pandas.pydata.org/pandas-docs/stable/user_guide/indexing.html#returning-a-view-versus-a-copy\n",
            "  del sys.path[0]\n"
          ],
          "name": "stderr"
        },
        {
          "output_type": "execute_result",
          "data": {
            "text/plain": [
              "0     ({'neg': 0.039, 'neu': 0.781, 'pos': 0.18, 'co...\n",
              "1     ({'neg': 0.029, 'neu': 0.871, 'pos': 0.099, 'c...\n",
              "2     ({'neg': 0.137, 'neu': 0.756, 'pos': 0.108, 'c...\n",
              "3     ({'neg': 0.036, 'neu': 0.814, 'pos': 0.151, 'c...\n",
              "4     ({'neg': 0.022, 'neu': 0.823, 'pos': 0.154, 'c...\n",
              "5     ({'neg': 0.042, 'neu': 0.855, 'pos': 0.103, 'c...\n",
              "6     ({'neg': 0.0, 'neu': 0.94, 'pos': 0.06, 'compo...\n",
              "7     ({'neg': 0.04, 'neu': 0.756, 'pos': 0.204, 'co...\n",
              "8     ({'neg': 0.084, 'neu': 0.752, 'pos': 0.164, 'c...\n",
              "9     ({'neg': 0.0, 'neu': 0.505, 'pos': 0.495, 'com...\n",
              "10    ({'neg': 0.0, 'neu': 0.757, 'pos': 0.243, 'com...\n",
              "11    ({'neg': 0.0, 'neu': 0.927, 'pos': 0.073, 'com...\n",
              "12    ({'neg': 0.0, 'neu': 0.741, 'pos': 0.259, 'com...\n",
              "13    ({'neg': 0.024, 'neu': 0.837, 'pos': 0.138, 'c...\n",
              "14    ({'neg': 0.058, 'neu': 0.81, 'pos': 0.132, 'co...\n",
              "15    ({'neg': 0.0, 'neu': 0.741, 'pos': 0.259, 'com...\n",
              "16    ({'neg': 0.049, 'neu': 0.848, 'pos': 0.103, 'c...\n",
              "17    ({'neg': 0.116, 'neu': 0.852, 'pos': 0.032, 'c...\n",
              "18    ({'neg': 0.0, 'neu': 0.632, 'pos': 0.368, 'com...\n",
              "19    ({'neg': 0.0, 'neu': 0.856, 'pos': 0.144, 'com...\n",
              "20    ({'neg': 0.072, 'neu': 0.812, 'pos': 0.115, 'c...\n",
              "21    ({'neg': 0.042, 'neu': 0.824, 'pos': 0.134, 'c...\n",
              "22    ({'neg': 0.0, 'neu': 0.832, 'pos': 0.168, 'com...\n",
              "23    ({'neg': 0.0, 'neu': 0.809, 'pos': 0.191, 'com...\n",
              "24    ({'neg': 0.043, 'neu': 0.743, 'pos': 0.214, 'c...\n",
              "25    ({'neg': 0.206, 'neu': 0.669, 'pos': 0.125, 'c...\n",
              "26    ({'neg': 0.015, 'neu': 0.847, 'pos': 0.138, 'c...\n",
              "27    ({'neg': 0.026, 'neu': 0.834, 'pos': 0.14, 'co...\n",
              "28    ({'neg': 0.029, 'neu': 0.889, 'pos': 0.083, 'c...\n",
              "29    ({'neg': 0.165, 'neu': 0.783, 'pos': 0.052, 'c...\n",
              "Name: reviewTextscore, dtype: object"
            ]
          },
          "metadata": {
            "tags": []
          },
          "execution_count": 92
        }
      ]
    },
    {
      "cell_type": "code",
      "metadata": {
        "id": "Kc-RNERw9Uif",
        "colab_type": "code",
        "outputId": "f041338a-7d4c-44a0-897e-4b4b00476c7c",
        "colab": {
          "base_uri": "https://localhost:8080/",
          "height": 675
        }
      },
      "source": [
        "df1['TweetTextscore'] = df1['TweetText'].apply(sentiment_analyzer_scores)\n",
        "df1['TweetTextscore']"
      ],
      "execution_count": 93,
      "outputs": [
        {
          "output_type": "stream",
          "text": [
            "/usr/local/lib/python3.6/dist-packages/ipykernel_launcher.py:1: SettingWithCopyWarning: \n",
            "A value is trying to be set on a copy of a slice from a DataFrame.\n",
            "Try using .loc[row_indexer,col_indexer] = value instead\n",
            "\n",
            "See the caveats in the documentation: http://pandas.pydata.org/pandas-docs/stable/user_guide/indexing.html#returning-a-view-versus-a-copy\n",
            "  \"\"\"Entry point for launching an IPython kernel.\n"
          ],
          "name": "stderr"
        },
        {
          "output_type": "execute_result",
          "data": {
            "text/plain": [
              "0     ({'neg': 0.0, 'neu': 1.0, 'pos': 0.0, 'compoun...\n",
              "1     ({'neg': 0.0, 'neu': 0.801, 'pos': 0.199, 'com...\n",
              "2     ({'neg': 0.0, 'neu': 0.591, 'pos': 0.409, 'com...\n",
              "3     ({'neg': 0.0, 'neu': 0.814, 'pos': 0.186, 'com...\n",
              "4     ({'neg': 0.0, 'neu': 0.791, 'pos': 0.209, 'com...\n",
              "5     ({'neg': 0.172, 'neu': 0.828, 'pos': 0.0, 'com...\n",
              "6     ({'neg': 0.0, 'neu': 0.788, 'pos': 0.212, 'com...\n",
              "7     ({'neg': 0.0, 'neu': 0.695, 'pos': 0.305, 'com...\n",
              "8     ({'neg': 0.0, 'neu': 0.769, 'pos': 0.231, 'com...\n",
              "9     ({'neg': 0.0, 'neu': 0.612, 'pos': 0.388, 'com...\n",
              "10    ({'neg': 0.129, 'neu': 0.612, 'pos': 0.26, 'co...\n",
              "11    ({'neg': 0.179, 'neu': 0.567, 'pos': 0.254, 'c...\n",
              "12    ({'neg': 0.0, 'neu': 0.615, 'pos': 0.385, 'com...\n",
              "13    ({'neg': 0.0, 'neu': 0.586, 'pos': 0.414, 'com...\n",
              "14    ({'neg': 0.0, 'neu': 0.581, 'pos': 0.419, 'com...\n",
              "15    ({'neg': 0.0, 'neu': 0.759, 'pos': 0.241, 'com...\n",
              "16    ({'neg': 0.0, 'neu': 0.858, 'pos': 0.142, 'com...\n",
              "17    ({'neg': 0.0, 'neu': 0.845, 'pos': 0.155, 'com...\n",
              "18    ({'neg': 0.162, 'neu': 0.711, 'pos': 0.127, 'c...\n",
              "19    ({'neg': 0.0, 'neu': 0.868, 'pos': 0.132, 'com...\n",
              "20    ({'neg': 0.0, 'neu': 0.365, 'pos': 0.635, 'com...\n",
              "21    ({'neg': 0.0, 'neu': 1.0, 'pos': 0.0, 'compoun...\n",
              "22    ({'neg': 0.0, 'neu': 1.0, 'pos': 0.0, 'compoun...\n",
              "23    ({'neg': 0.0, 'neu': 0.477, 'pos': 0.523, 'com...\n",
              "24    ({'neg': 0.0, 'neu': 0.568, 'pos': 0.432, 'com...\n",
              "25    ({'neg': 0.0, 'neu': 0.82, 'pos': 0.18, 'compo...\n",
              "26    ({'neg': 0.0, 'neu': 0.798, 'pos': 0.202, 'com...\n",
              "27    ({'neg': 0.121, 'neu': 0.823, 'pos': 0.056, 'c...\n",
              "28    ({'neg': 0.0, 'neu': 0.83, 'pos': 0.17, 'compo...\n",
              "29    ({'neg': 0.0, 'neu': 1.0, 'pos': 0.0, 'compoun...\n",
              "Name: TweetTextscore, dtype: object"
            ]
          },
          "metadata": {
            "tags": []
          },
          "execution_count": 93
        }
      ]
    },
    {
      "cell_type": "code",
      "metadata": {
        "id": "3Zu7c6B44xkt",
        "colab_type": "code",
        "colab": {}
      },
      "source": [
        "from textblob import TextBlob\n",
        "\n",
        "def detect_polarity(text):\n",
        "    return TextBlob(text).sentiment.polarity"
      ],
      "execution_count": 0,
      "outputs": []
    },
    {
      "cell_type": "code",
      "metadata": {
        "id": "d7KhD6IQ6DHM",
        "colab_type": "code",
        "outputId": "191e48da-3f1b-452e-dd8b-77774a588c57",
        "colab": {
          "base_uri": "https://localhost:8080/",
          "height": 675
        }
      },
      "source": [
        "df1['polarity'] = df1['TweetText'].apply(detect_polarity)\n",
        "df1['polarity']"
      ],
      "execution_count": 95,
      "outputs": [
        {
          "output_type": "stream",
          "text": [
            "/usr/local/lib/python3.6/dist-packages/ipykernel_launcher.py:1: SettingWithCopyWarning: \n",
            "A value is trying to be set on a copy of a slice from a DataFrame.\n",
            "Try using .loc[row_indexer,col_indexer] = value instead\n",
            "\n",
            "See the caveats in the documentation: http://pandas.pydata.org/pandas-docs/stable/user_guide/indexing.html#returning-a-view-versus-a-copy\n",
            "  \"\"\"Entry point for launching an IPython kernel.\n"
          ],
          "name": "stderr"
        },
        {
          "output_type": "execute_result",
          "data": {
            "text/plain": [
              "0     0.000000\n",
              "1     0.500000\n",
              "2     0.393750\n",
              "3     0.541667\n",
              "4     0.200000\n",
              "5    -0.375000\n",
              "6     0.362500\n",
              "7     0.400000\n",
              "8     1.000000\n",
              "9     0.800000\n",
              "10    0.600000\n",
              "11    0.650000\n",
              "12    0.125000\n",
              "13    0.410000\n",
              "14    0.125000\n",
              "15    0.150000\n",
              "16    0.083333\n",
              "17    0.200000\n",
              "18    0.000000\n",
              "19    0.200000\n",
              "20    0.312500\n",
              "21    0.000000\n",
              "22    0.000000\n",
              "23    0.937500\n",
              "24    0.368182\n",
              "25    0.118750\n",
              "26    0.118750\n",
              "27   -0.107143\n",
              "28    0.550000\n",
              "29    0.000000\n",
              "Name: polarity, dtype: float64"
            ]
          },
          "metadata": {
            "tags": []
          },
          "execution_count": 95
        }
      ]
    },
    {
      "cell_type": "code",
      "metadata": {
        "id": "ifFyeIhE6-7-",
        "colab_type": "code",
        "outputId": "f116f07b-6e7e-44f2-90d2-a1952a56d601",
        "colab": {
          "base_uri": "https://localhost:8080/",
          "height": 675
        }
      },
      "source": [
        "df3['polarity'] = df3['reviewText'].apply(detect_polarity)\n",
        "df3['polarity']"
      ],
      "execution_count": 96,
      "outputs": [
        {
          "output_type": "stream",
          "text": [
            "/usr/local/lib/python3.6/dist-packages/ipykernel_launcher.py:1: SettingWithCopyWarning: \n",
            "A value is trying to be set on a copy of a slice from a DataFrame.\n",
            "Try using .loc[row_indexer,col_indexer] = value instead\n",
            "\n",
            "See the caveats in the documentation: http://pandas.pydata.org/pandas-docs/stable/user_guide/indexing.html#returning-a-view-versus-a-copy\n",
            "  \"\"\"Entry point for launching an IPython kernel.\n"
          ],
          "name": "stderr"
        },
        {
          "output_type": "execute_result",
          "data": {
            "text/plain": [
              "0     0.180000\n",
              "1     0.170939\n",
              "2     0.204091\n",
              "3     0.214217\n",
              "4     0.350000\n",
              "5     0.049280\n",
              "6     0.052879\n",
              "7     0.270833\n",
              "8     0.161104\n",
              "9     0.426667\n",
              "10    0.166964\n",
              "11    0.346667\n",
              "12    0.331250\n",
              "13    0.313155\n",
              "14    0.138656\n",
              "15    0.216837\n",
              "16    0.062024\n",
              "17   -0.003000\n",
              "18    0.644444\n",
              "19   -0.166667\n",
              "20    0.218750\n",
              "21    0.328125\n",
              "22    0.294667\n",
              "23    0.396667\n",
              "24    0.147665\n",
              "25    0.282500\n",
              "26    0.084836\n",
              "27    0.190741\n",
              "28    0.200000\n",
              "29    0.172000\n",
              "Name: polarity, dtype: float64"
            ]
          },
          "metadata": {
            "tags": []
          },
          "execution_count": 96
        }
      ]
    },
    {
      "cell_type": "code",
      "metadata": {
        "id": "DOQRsFXyDtH5",
        "colab_type": "code",
        "colab": {}
      },
      "source": [
        "def words(polarity):\n",
        "  if polarity>0:\n",
        "    return \"positive\"\n",
        "  elif polarity<0:\n",
        "    return \"negetive\"\n",
        "  else:\n",
        "    return \"neutral\""
      ],
      "execution_count": 0,
      "outputs": []
    },
    {
      "cell_type": "code",
      "metadata": {
        "id": "4sBDpeHCXgjt",
        "colab_type": "code",
        "colab": {
          "base_uri": "https://localhost:8080/",
          "height": 675
        },
        "outputId": "af6d1422-1fd3-4731-b845-77aecd55e0bd"
      },
      "source": [
        "df1['polarity1'] = df1['polarity'].apply(words)\n",
        "df1['polarity1']"
      ],
      "execution_count": 98,
      "outputs": [
        {
          "output_type": "stream",
          "text": [
            "/usr/local/lib/python3.6/dist-packages/ipykernel_launcher.py:1: SettingWithCopyWarning: \n",
            "A value is trying to be set on a copy of a slice from a DataFrame.\n",
            "Try using .loc[row_indexer,col_indexer] = value instead\n",
            "\n",
            "See the caveats in the documentation: http://pandas.pydata.org/pandas-docs/stable/user_guide/indexing.html#returning-a-view-versus-a-copy\n",
            "  \"\"\"Entry point for launching an IPython kernel.\n"
          ],
          "name": "stderr"
        },
        {
          "output_type": "execute_result",
          "data": {
            "text/plain": [
              "0      neutral\n",
              "1     positive\n",
              "2     positive\n",
              "3     positive\n",
              "4     positive\n",
              "5     negetive\n",
              "6     positive\n",
              "7     positive\n",
              "8     positive\n",
              "9     positive\n",
              "10    positive\n",
              "11    positive\n",
              "12    positive\n",
              "13    positive\n",
              "14    positive\n",
              "15    positive\n",
              "16    positive\n",
              "17    positive\n",
              "18     neutral\n",
              "19    positive\n",
              "20    positive\n",
              "21     neutral\n",
              "22     neutral\n",
              "23    positive\n",
              "24    positive\n",
              "25    positive\n",
              "26    positive\n",
              "27    negetive\n",
              "28    positive\n",
              "29     neutral\n",
              "Name: polarity1, dtype: object"
            ]
          },
          "metadata": {
            "tags": []
          },
          "execution_count": 98
        }
      ]
    },
    {
      "cell_type": "code",
      "metadata": {
        "id": "s3dH3U2RDv49",
        "colab_type": "code",
        "outputId": "3c5e4252-648c-46d6-f110-6bb29c6e0343",
        "colab": {
          "base_uri": "https://localhost:8080/",
          "height": 675
        }
      },
      "source": [
        "df3['polarity1'] = df3['polarity'].apply(words)\n",
        "df3['polarity1']"
      ],
      "execution_count": 99,
      "outputs": [
        {
          "output_type": "stream",
          "text": [
            "/usr/local/lib/python3.6/dist-packages/ipykernel_launcher.py:1: SettingWithCopyWarning: \n",
            "A value is trying to be set on a copy of a slice from a DataFrame.\n",
            "Try using .loc[row_indexer,col_indexer] = value instead\n",
            "\n",
            "See the caveats in the documentation: http://pandas.pydata.org/pandas-docs/stable/user_guide/indexing.html#returning-a-view-versus-a-copy\n",
            "  \"\"\"Entry point for launching an IPython kernel.\n"
          ],
          "name": "stderr"
        },
        {
          "output_type": "execute_result",
          "data": {
            "text/plain": [
              "0     positive\n",
              "1     positive\n",
              "2     positive\n",
              "3     positive\n",
              "4     positive\n",
              "5     positive\n",
              "6     positive\n",
              "7     positive\n",
              "8     positive\n",
              "9     positive\n",
              "10    positive\n",
              "11    positive\n",
              "12    positive\n",
              "13    positive\n",
              "14    positive\n",
              "15    positive\n",
              "16    positive\n",
              "17    negetive\n",
              "18    positive\n",
              "19    negetive\n",
              "20    positive\n",
              "21    positive\n",
              "22    positive\n",
              "23    positive\n",
              "24    positive\n",
              "25    positive\n",
              "26    positive\n",
              "27    positive\n",
              "28    positive\n",
              "29    positive\n",
              "Name: polarity1, dtype: object"
            ]
          },
          "metadata": {
            "tags": []
          },
          "execution_count": 99
        }
      ]
    },
    {
      "cell_type": "code",
      "metadata": {
        "id": "PRhBvkfnWey2",
        "colab_type": "code",
        "colab": {
          "base_uri": "https://localhost:8080/",
          "height": 355
        },
        "outputId": "9c9ca26b-a084-4708-ba3d-d02fe440d13c"
      },
      "source": [
        "from sklearn.metrics import confusion_matrix,accuracy_score,classification_report\n",
        "y_true  = df1['Sentiment']\n",
        "y_pred = df1['polarity1']\n",
        "print(\"Confusion Matrix\")\n",
        "print(confusion_matrix(y_true,y_pred))\n",
        "print(\"Accuracy:\")\n",
        "print(accuracy_score(y_true,y_pred))\n",
        "print(\"Classification Report:\")\n",
        "print(classification_report(y_true,y_pred))"
      ],
      "execution_count": 102,
      "outputs": [
        {
          "output_type": "stream",
          "text": [
            "Confusion Matrix\n",
            "[[ 0  0  0]\n",
            " [ 0  0  0]\n",
            " [ 2  5 23]]\n",
            "Accuracy:\n",
            "0.7666666666666667\n",
            "Classification Report:\n",
            "              precision    recall  f1-score   support\n",
            "\n",
            "    negetive       0.00      0.00      0.00         0\n",
            "     neutral       0.00      0.00      0.00         0\n",
            "    positive       1.00      0.77      0.87        30\n",
            "\n",
            "    accuracy                           0.77        30\n",
            "   macro avg       0.33      0.26      0.29        30\n",
            "weighted avg       1.00      0.77      0.87        30\n",
            "\n"
          ],
          "name": "stdout"
        },
        {
          "output_type": "stream",
          "text": [
            "/usr/local/lib/python3.6/dist-packages/sklearn/metrics/classification.py:1439: UndefinedMetricWarning: Recall and F-score are ill-defined and being set to 0.0 in labels with no true samples.\n",
            "  'recall', 'true', average, warn_for)\n"
          ],
          "name": "stderr"
        }
      ]
    },
    {
      "cell_type": "code",
      "metadata": {
        "id": "1MghjCNmF-Zg",
        "colab_type": "code",
        "outputId": "bc693bf6-8bef-4772-ef23-91b86c2dca2c",
        "colab": {
          "base_uri": "https://localhost:8080/",
          "height": 230
        }
      },
      "source": [
        "!pip install glove_python"
      ],
      "execution_count": 2,
      "outputs": [
        {
          "output_type": "stream",
          "text": [
            "Collecting glove_python\n",
            "\u001b[?25l  Downloading https://files.pythonhosted.org/packages/3e/79/7e7e548dd9dcb741935d031117f4bed133276c2a047aadad42f1552d1771/glove_python-0.1.0.tar.gz (263kB)\n",
            "\r\u001b[K     |█▎                              | 10kB 16.6MB/s eta 0:00:01\r\u001b[K     |██▌                             | 20kB 1.7MB/s eta 0:00:01\r\u001b[K     |███▊                            | 30kB 2.5MB/s eta 0:00:01\r\u001b[K     |█████                           | 40kB 1.7MB/s eta 0:00:01\r\u001b[K     |██████▎                         | 51kB 2.1MB/s eta 0:00:01\r\u001b[K     |███████▌                        | 61kB 2.5MB/s eta 0:00:01\r\u001b[K     |████████▊                       | 71kB 2.8MB/s eta 0:00:01\r\u001b[K     |██████████                      | 81kB 3.2MB/s eta 0:00:01\r\u001b[K     |███████████▏                    | 92kB 3.6MB/s eta 0:00:01\r\u001b[K     |████████████▌                   | 102kB 2.8MB/s eta 0:00:01\r\u001b[K     |█████████████▊                  | 112kB 2.8MB/s eta 0:00:01\r\u001b[K     |███████████████                 | 122kB 2.8MB/s eta 0:00:01\r\u001b[K     |████████████████▏               | 133kB 2.8MB/s eta 0:00:01\r\u001b[K     |█████████████████▍              | 143kB 2.8MB/s eta 0:00:01\r\u001b[K     |██████████████████▊             | 153kB 2.8MB/s eta 0:00:01\r\u001b[K     |████████████████████            | 163kB 2.8MB/s eta 0:00:01\r\u001b[K     |█████████████████████▏          | 174kB 2.8MB/s eta 0:00:01\r\u001b[K     |██████████████████████▍         | 184kB 2.8MB/s eta 0:00:01\r\u001b[K     |███████████████████████▋        | 194kB 2.8MB/s eta 0:00:01\r\u001b[K     |█████████████████████████       | 204kB 2.8MB/s eta 0:00:01\r\u001b[K     |██████████████████████████▏     | 215kB 2.8MB/s eta 0:00:01\r\u001b[K     |███████████████████████████▍    | 225kB 2.8MB/s eta 0:00:01\r\u001b[K     |████████████████████████████▋   | 235kB 2.8MB/s eta 0:00:01\r\u001b[K     |█████████████████████████████▉  | 245kB 2.8MB/s eta 0:00:01\r\u001b[K     |███████████████████████████████▏| 256kB 2.8MB/s eta 0:00:01\r\u001b[K     |████████████████████████████████| 266kB 2.8MB/s \n",
            "\u001b[?25hRequirement already satisfied: numpy in /usr/local/lib/python3.6/dist-packages (from glove_python) (1.17.4)\n",
            "Requirement already satisfied: scipy in /usr/local/lib/python3.6/dist-packages (from glove_python) (1.3.3)\n",
            "Building wheels for collected packages: glove-python\n",
            "  Building wheel for glove-python (setup.py) ... \u001b[?25l\u001b[?25hdone\n",
            "  Created wheel for glove-python: filename=glove_python-0.1.0-cp36-cp36m-linux_x86_64.whl size=700327 sha256=771f6082a34859843f729df52c91b1f809b0be2a3c2eced80d15486fa065fb2f\n",
            "  Stored in directory: /root/.cache/pip/wheels/88/4b/6d/10c0d2ad32c9d9d68beec9694a6f0b6e83ab1662a90a089a4b\n",
            "Successfully built glove-python\n",
            "Installing collected packages: glove-python\n",
            "Successfully installed glove-python-0.1.0\n"
          ],
          "name": "stdout"
        }
      ]
    },
    {
      "cell_type": "code",
      "metadata": {
        "id": "li2fXbt0K7RX",
        "colab_type": "code",
        "colab": {}
      },
      "source": [
        "from glove import Corpus, Glove\n",
        "import nltk\n",
        "nltk.download('punkt')"
      ],
      "execution_count": 0,
      "outputs": []
    },
    {
      "cell_type": "code",
      "metadata": {
        "id": "yqyQB9tOGG6z",
        "colab_type": "code",
        "colab": {
          "base_uri": "https://localhost:8080/",
          "height": 568
        },
        "outputId": "e4db5250-eeb6-44aa-a41f-00cbb06f8122"
      },
      "source": [
        "text = df1[\"TweetText\"].apply(nltk.word_tokenize)\n",
        "corpus = Corpus()\n",
        "corpus.fit(text,window=10)\n",
        "glove = Glove(no_components=1000, learning_rate=0.05)\n",
        " \n",
        "glove.fit(corpus.matrix, epochs=30, no_threads=4, verbose=True)\n",
        "glove.add_dictionary(corpus.dictionary)\n",
        "glove.save('glove.model')"
      ],
      "execution_count": 132,
      "outputs": [
        {
          "output_type": "stream",
          "text": [
            "Performing 30 training epochs with 4 threads\n",
            "Epoch 0\n",
            "Epoch 1\n",
            "Epoch 2\n",
            "Epoch 3\n",
            "Epoch 4\n",
            "Epoch 5\n",
            "Epoch 6\n",
            "Epoch 7\n",
            "Epoch 8\n",
            "Epoch 9\n",
            "Epoch 10\n",
            "Epoch 11\n",
            "Epoch 12\n",
            "Epoch 13\n",
            "Epoch 14\n",
            "Epoch 15\n",
            "Epoch 16\n",
            "Epoch 17\n",
            "Epoch 18\n",
            "Epoch 19\n",
            "Epoch 20\n",
            "Epoch 21\n",
            "Epoch 22\n",
            "Epoch 23\n",
            "Epoch 24\n",
            "Epoch 25\n",
            "Epoch 26\n",
            "Epoch 27\n",
            "Epoch 28\n",
            "Epoch 29\n"
          ],
          "name": "stdout"
        }
      ]
    },
    {
      "cell_type": "code",
      "metadata": {
        "id": "s-JStx0dJovC",
        "colab_type": "code",
        "colab": {
          "base_uri": "https://localhost:8080/",
          "height": 88
        },
        "outputId": "26a11a94-2950-4487-9862-04f45685c6d3"
      },
      "source": [
        "glove.most_similar('amazing')"
      ],
      "execution_count": 133,
      "outputs": [
        {
          "output_type": "execute_result",
          "data": {
            "text/plain": [
              "[('!', 0.11432450066402086),\n",
              " ('apple..good', 0.08804437455245416),\n",
              " ('sweet', 0.08521690465969876),\n",
              " ('affair', 0.07508499173672137)]"
            ]
          },
          "metadata": {
            "tags": []
          },
          "execution_count": 133
        }
      ]
    }
  ]
}