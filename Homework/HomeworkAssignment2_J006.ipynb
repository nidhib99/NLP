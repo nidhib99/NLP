{
  "nbformat": 4,
  "nbformat_minor": 0,
  "metadata": {
    "colab": {
      "name": "HomeworkAssignment2-J006.ipynb",
      "provenance": [],
      "include_colab_link": true
    },
    "kernelspec": {
      "name": "python3",
      "display_name": "Python 3"
    }
  },
  "cells": [
    {
      "cell_type": "markdown",
      "metadata": {
        "id": "view-in-github",
        "colab_type": "text"
      },
      "source": [
        "<a href=\"https://colab.research.google.com/github/nidhib99/NLP/blob/master/Homework/HomeworkAssignment2_J006.ipynb\" target=\"_parent\"><img src=\"https://colab.research.google.com/assets/colab-badge.svg\" alt=\"Open In Colab\"/></a>"
      ]
    },
    {
      "cell_type": "code",
      "metadata": {
        "id": "XEEZOMfvCrNf",
        "colab_type": "code",
        "colab": {}
      },
      "source": [
        "import pandas as pd\n",
        "df = pd.read_json(\"http://snap.stanford.edu/data/amazon/productGraph/categoryFiles/reviews_Office_Products_5.json.gz\", lines = True)\n"
      ],
      "execution_count": 0,
      "outputs": []
    },
    {
      "cell_type": "code",
      "metadata": {
        "id": "r1vXj7kWC8fv",
        "colab_type": "code",
        "outputId": "e71313b5-ad4d-4b4f-e954-9c652f0bfa97",
        "colab": {
          "base_uri": "https://localhost:8080/",
          "height": 281
        }
      },
      "source": [
        "df.head(5)"
      ],
      "execution_count": 10,
      "outputs": [
        {
          "output_type": "execute_result",
          "data": {
            "text/html": [
              "<div>\n",
              "<style scoped>\n",
              "    .dataframe tbody tr th:only-of-type {\n",
              "        vertical-align: middle;\n",
              "    }\n",
              "\n",
              "    .dataframe tbody tr th {\n",
              "        vertical-align: top;\n",
              "    }\n",
              "\n",
              "    .dataframe thead th {\n",
              "        text-align: right;\n",
              "    }\n",
              "</style>\n",
              "<table border=\"1\" class=\"dataframe\">\n",
              "  <thead>\n",
              "    <tr style=\"text-align: right;\">\n",
              "      <th></th>\n",
              "      <th>reviewerID</th>\n",
              "      <th>asin</th>\n",
              "      <th>reviewerName</th>\n",
              "      <th>helpful</th>\n",
              "      <th>reviewText</th>\n",
              "      <th>overall</th>\n",
              "      <th>summary</th>\n",
              "      <th>unixReviewTime</th>\n",
              "      <th>reviewTime</th>\n",
              "    </tr>\n",
              "  </thead>\n",
              "  <tbody>\n",
              "    <tr>\n",
              "      <th>0</th>\n",
              "      <td>A32T2H8150OJLU</td>\n",
              "      <td>B00000JBLH</td>\n",
              "      <td>ARH</td>\n",
              "      <td>[3, 4]</td>\n",
              "      <td>I bought my first HP12C in about 1984 or so, a...</td>\n",
              "      <td>5</td>\n",
              "      <td>A solid performer, and long time friend</td>\n",
              "      <td>1094169600</td>\n",
              "      <td>09 3, 2004</td>\n",
              "    </tr>\n",
              "    <tr>\n",
              "      <th>1</th>\n",
              "      <td>A3MAFS04ZABRGO</td>\n",
              "      <td>B00000JBLH</td>\n",
              "      <td>Let it Be \"Alan\"</td>\n",
              "      <td>[7, 9]</td>\n",
              "      <td>WHY THIS BELATED REVIEW? I feel very obliged t...</td>\n",
              "      <td>5</td>\n",
              "      <td>Price of GOLD is up, so don't bury the golden ...</td>\n",
              "      <td>1197676800</td>\n",
              "      <td>12 15, 2007</td>\n",
              "    </tr>\n",
              "    <tr>\n",
              "      <th>2</th>\n",
              "      <td>A1F1A0QQP2XVH5</td>\n",
              "      <td>B00000JBLH</td>\n",
              "      <td>Mark B</td>\n",
              "      <td>[3, 3]</td>\n",
              "      <td>I have an HP 48GX that has been kicking for mo...</td>\n",
              "      <td>2</td>\n",
              "      <td>Good functionality, but not durable like old HPs</td>\n",
              "      <td>1293840000</td>\n",
              "      <td>01 1, 2011</td>\n",
              "    </tr>\n",
              "    <tr>\n",
              "      <th>3</th>\n",
              "      <td>A49R5DBXXQDE5</td>\n",
              "      <td>B00000JBLH</td>\n",
              "      <td>R. D Johnson</td>\n",
              "      <td>[7, 8]</td>\n",
              "      <td>I've started doing more finance stuff recently...</td>\n",
              "      <td>5</td>\n",
              "      <td>One of the last of an almost extinct species</td>\n",
              "      <td>1145404800</td>\n",
              "      <td>04 19, 2006</td>\n",
              "    </tr>\n",
              "    <tr>\n",
              "      <th>4</th>\n",
              "      <td>A2XRMQA6PJ5ZJ8</td>\n",
              "      <td>B00000JBLH</td>\n",
              "      <td>Roger J. Buffington</td>\n",
              "      <td>[0, 0]</td>\n",
              "      <td>For simple calculations and discounted cash fl...</td>\n",
              "      <td>5</td>\n",
              "      <td>Still the best</td>\n",
              "      <td>1375574400</td>\n",
              "      <td>08 4, 2013</td>\n",
              "    </tr>\n",
              "  </tbody>\n",
              "</table>\n",
              "</div>"
            ],
            "text/plain": [
              "       reviewerID        asin  ... unixReviewTime   reviewTime\n",
              "0  A32T2H8150OJLU  B00000JBLH  ...     1094169600   09 3, 2004\n",
              "1  A3MAFS04ZABRGO  B00000JBLH  ...     1197676800  12 15, 2007\n",
              "2  A1F1A0QQP2XVH5  B00000JBLH  ...     1293840000   01 1, 2011\n",
              "3   A49R5DBXXQDE5  B00000JBLH  ...     1145404800  04 19, 2006\n",
              "4  A2XRMQA6PJ5ZJ8  B00000JBLH  ...     1375574400   08 4, 2013\n",
              "\n",
              "[5 rows x 9 columns]"
            ]
          },
          "metadata": {
            "tags": []
          },
          "execution_count": 10
        }
      ]
    },
    {
      "cell_type": "code",
      "metadata": {
        "id": "sJWdj7zFEJ-K",
        "colab_type": "code",
        "colab": {}
      },
      "source": [
        "import re"
      ],
      "execution_count": 0,
      "outputs": []
    },
    {
      "cell_type": "code",
      "metadata": {
        "id": "jhaao-Y2KHCd",
        "colab_type": "code",
        "outputId": "1dc87457-6be6-4116-d70f-90d69f0362c9",
        "colab": {
          "base_uri": "https://localhost:8080/",
          "height": 34
        }
      },
      "source": [
        "#Method 1:\n",
        "text1 = \" this is a searching for words not like big\"\n",
        "words = re.findall(r'\\b[^\\WbB]\\w*[^\\WgG]\\b', text1)\n",
        "words1 = re.findall(r'\\b\\w\\b', text1)\n",
        "\n",
        "print(words, words1 , set(words + words1))"
      ],
      "execution_count": 12,
      "outputs": [
        {
          "output_type": "stream",
          "text": [
            "['this', 'is', 'for', 'words', 'not', 'like'] ['a'] {'for', 'a', 'is', 'words', 'this', 'not', 'like'}\n"
          ],
          "name": "stdout"
        }
      ]
    },
    {
      "cell_type": "code",
      "metadata": {
        "id": "blHYj5s1hv-R",
        "colab_type": "code",
        "outputId": "ab0fedfc-e80f-4c25-c163-3da4c1adce14",
        "colab": {
          "base_uri": "https://localhost:8080/",
          "height": 34
        }
      },
      "source": [
        "#Method 2:\n",
        "words2 = re.findall(r'\\b[^\\WbB]\\w*', text1)\n",
        "words3 = re.findall(r'\\w*[^\\WgG]\\b', text1)\n",
        "\n",
        "print(set(words2) & set(words3))\n"
      ],
      "execution_count": 13,
      "outputs": [
        {
          "output_type": "stream",
          "text": [
            "{'for', 'a', 'is', 'words', 'this', 'not', 'like'}\n"
          ],
          "name": "stdout"
        }
      ]
    },
    {
      "cell_type": "markdown",
      "metadata": {
        "id": "VpI5en8gsL5b",
        "colab_type": "text"
      },
      "source": [
        "Applying Method 1"
      ]
    },
    {
      "cell_type": "code",
      "metadata": {
        "id": "Fd-mECJXkLmp",
        "colab_type": "code",
        "colab": {}
      },
      "source": [
        "def letters3(sentence):\n",
        "  letter = dict()\n",
        "  words1 = re.findall(r'\\b[^\\WbB]\\w*[^\\WgG]\\b', sentence)\n",
        "  words2 = re.findall(r'\\b\\w\\b', sentence)\n",
        "\n",
        "  letter['no b and g'] = (set(words1+words2))\n",
        "  return letter"
      ],
      "execution_count": 0,
      "outputs": []
    },
    {
      "cell_type": "code",
      "metadata": {
        "id": "R---d7vFOGXn",
        "colab_type": "code",
        "colab": {}
      },
      "source": [
        "def letters1(sentence):\n",
        "  letter = dict()\n",
        "  words1 = re.findall(r'\\b[^\\WbB]\\w*', sentence)\n",
        "\n",
        "  letter['doesnt start b'] = words1\n",
        "  return letter"
      ],
      "execution_count": 0,
      "outputs": []
    },
    {
      "cell_type": "code",
      "metadata": {
        "id": "qOA_RLFiOFzR",
        "colab_type": "code",
        "colab": {}
      },
      "source": [
        "def letters2(sentence):\n",
        "  letter = dict()\n",
        "  words2 = re.findall(r'\\w*[^\\WgG]\\b', sentence)\n",
        "\n",
        "  letter['doesnt end g'] = words2\n",
        "  return letter"
      ],
      "execution_count": 0,
      "outputs": []
    },
    {
      "cell_type": "code",
      "metadata": {
        "id": "Ij5F6-KOMCk-",
        "colab_type": "code",
        "outputId": "beaf70aa-e0fb-4aa9-e423-885b270ffefb",
        "colab": {
          "base_uri": "https://localhost:8080/",
          "height": 230
        }
      },
      "source": [
        "df['reviewText_regex1'] = df.reviewText.apply(letters1)\n",
        "df.reviewText_regex1"
      ],
      "execution_count": 17,
      "outputs": [
        {
          "output_type": "execute_result",
          "data": {
            "text/plain": [
              "0        {'doesnt start b': ['I', 'my', 'first', 'HP12C...\n",
              "1        {'doesnt start b': ['WHY', 'THIS', 'REVIEW', '...\n",
              "2        {'doesnt start b': ['I', 'have', 'an', 'HP', '...\n",
              "3        {'doesnt start b': ['I', 've', 'started', 'doi...\n",
              "4        {'doesnt start b': ['For', 'simple', 'calculat...\n",
              "                               ...                        \n",
              "53253    {'doesnt start b': ['What', 'I', 'like', 'abou...\n",
              "53254    {'doesnt start b': ['This', 'Accuteck', 'ShipP...\n",
              "53255    {'doesnt start b': ['I', 'ship', 'a', 'lot', '...\n",
              "53256    {'doesnt start b': ['This', 'is', 'a', 'great'...\n",
              "53257    {'doesnt start b': ['When', 'asked', 'to', 're...\n",
              "Name: reviewText_regex1, Length: 53258, dtype: object"
            ]
          },
          "metadata": {
            "tags": []
          },
          "execution_count": 17
        }
      ]
    },
    {
      "cell_type": "code",
      "metadata": {
        "id": "N24c7RtsOdin",
        "colab_type": "code",
        "outputId": "934d06a1-3fe6-4ba3-eb5a-6e3e7e4e4866",
        "colab": {
          "base_uri": "https://localhost:8080/",
          "height": 230
        }
      },
      "source": [
        "df['reviewText_regex2'] = df.reviewText.apply(letters2)\n",
        "df.reviewText_regex2"
      ],
      "execution_count": 18,
      "outputs": [
        {
          "output_type": "execute_result",
          "data": {
            "text/plain": [
              "0        {'doesnt end g': ['I', 'bought', 'my', 'first'...\n",
              "1        {'doesnt end g': ['WHY', 'THIS', 'BELATED', 'R...\n",
              "2        {'doesnt end g': ['I', 'have', 'an', 'HP', '48...\n",
              "3        {'doesnt end g': ['I', 've', 'started', 'more'...\n",
              "4        {'doesnt end g': ['For', 'simple', 'calculatio...\n",
              "                               ...                        \n",
              "53253    {'doesnt end g': ['What', 'I', 'like', 'about'...\n",
              "53254    {'doesnt end g': ['This', 'Accuteck', 'ShipPro...\n",
              "53255    {'doesnt end g': ['I', 'ship', 'a', 'lot', 'of...\n",
              "53256    {'doesnt end g': ['This', 'is', 'a', 'great', ...\n",
              "53257    {'doesnt end g': ['When', 'asked', 'to', 'revi...\n",
              "Name: reviewText_regex2, Length: 53258, dtype: object"
            ]
          },
          "metadata": {
            "tags": []
          },
          "execution_count": 18
        }
      ]
    },
    {
      "cell_type": "code",
      "metadata": {
        "id": "AH6_t9lakx77",
        "colab_type": "code",
        "outputId": "0bd9fa98-61c3-405e-ecbe-bcb9c4bc3f7f",
        "colab": {
          "base_uri": "https://localhost:8080/",
          "height": 230
        }
      },
      "source": [
        "df['reviewText_regex3'] = df.reviewText.apply(letters3)\n",
        "df.reviewText_regex3"
      ],
      "execution_count": 19,
      "outputs": [
        {
          "output_type": "execute_result",
          "data": {
            "text/plain": [
              "0        {'no b and g': {'now', 'mistake', 'decade', 'e...\n",
              "1        {'no b and g': {'genuine', 'standard', 'custom...\n",
              "2        {'no b and g': {'to', 'old', 'functions', '25'...\n",
              "3        {'no b and g': {'straightforward', 'feedback',...\n",
              "4        {'no b and g': {'to', 'learn', 'complex', 'eas...\n",
              "                               ...                        \n",
              "53253    {'no b and g': {'sent', 'scale', 'they', 'I', ...\n",
              "53254    {'no b and g': {'against', 'similar', 'Product...\n",
              "53255    {'no b and g': {'25', 'money', 'now', '13', 's...\n",
              "53256    {'no b and g': {'items', 'scale', 'I', 'incred...\n",
              "53257    {'no b and g': {'against', 'items', 'telephone...\n",
              "Name: reviewText_regex3, Length: 53258, dtype: object"
            ]
          },
          "metadata": {
            "tags": []
          },
          "execution_count": 19
        }
      ]
    },
    {
      "cell_type": "code",
      "metadata": {
        "id": "arIu0cRzMkd_",
        "colab_type": "code",
        "outputId": "4f9768cd-eded-49be-8c42-5e6303d920b1",
        "colab": {
          "base_uri": "https://localhost:8080/",
          "height": 230
        }
      },
      "source": [
        "df['summary_regex1'] = df.summary.apply(letters1)\n",
        "df.summary_regex1"
      ],
      "execution_count": 20,
      "outputs": [
        {
          "output_type": "execute_result",
          "data": {
            "text/plain": [
              "0        {'doesnt start b': ['A', 'solid', 'performer',...\n",
              "1        {'doesnt start b': ['Price', 'of', 'GOLD', 'is...\n",
              "2        {'doesnt start b': ['Good', 'functionality', '...\n",
              "3        {'doesnt start b': ['One', 'of', 'the', 'last'...\n",
              "4                     {'doesnt start b': ['Still', 'the']}\n",
              "                               ...                        \n",
              "53253    {'doesnt start b': ['Portable', 'and', 'very',...\n",
              "53254    {'doesnt start b': ['Accuteck', 'ShipPro', 'Di...\n",
              "53255    {'doesnt start b': ['Extremely', 'accurate', '...\n",
              "53256    {'doesnt start b': ['Fast', 'Easy', 'and', 'Ac...\n",
              "53257    {'doesnt start b': ['Great', 'Value', 'on', 'a...\n",
              "Name: summary_regex1, Length: 53258, dtype: object"
            ]
          },
          "metadata": {
            "tags": []
          },
          "execution_count": 20
        }
      ]
    },
    {
      "cell_type": "code",
      "metadata": {
        "id": "RDPuY5NcrrN8",
        "colab_type": "code",
        "colab": {
          "base_uri": "https://localhost:8080/",
          "height": 230
        },
        "outputId": "2458fe76-9c12-4d6f-c3ec-7691829f1adc"
      },
      "source": [
        "df['summary_regex2'] = df.summary.apply(letters2)\n",
        "df.summary_regex2"
      ],
      "execution_count": 21,
      "outputs": [
        {
          "output_type": "execute_result",
          "data": {
            "text/plain": [
              "0        {'doesnt end g': ['A', 'solid', 'performer', '...\n",
              "1        {'doesnt end g': ['Price', 'of', 'GOLD', 'is',...\n",
              "2        {'doesnt end g': ['Good', 'functionality', 'bu...\n",
              "3        {'doesnt end g': ['One', 'of', 'the', 'last', ...\n",
              "4               {'doesnt end g': ['Still', 'the', 'best']}\n",
              "                               ...                        \n",
              "53253    {'doesnt end g': ['Portable', 'and', 'very', '...\n",
              "53254    {'doesnt end g': ['Accuteck', 'ShipPro', 'Digi...\n",
              "53255    {'doesnt end g': ['Extremely', 'accurate', 'fo...\n",
              "53256    {'doesnt end g': ['Fast', 'Easy', 'and', 'Accu...\n",
              "53257    {'doesnt end g': ['Great', 'Value', 'on', 'a',...\n",
              "Name: summary_regex2, Length: 53258, dtype: object"
            ]
          },
          "metadata": {
            "tags": []
          },
          "execution_count": 21
        }
      ]
    },
    {
      "cell_type": "code",
      "metadata": {
        "id": "kVEtRcekruk3",
        "colab_type": "code",
        "colab": {
          "base_uri": "https://localhost:8080/",
          "height": 230
        },
        "outputId": "6010975f-0976-46ef-c05d-ac1b9592265e"
      },
      "source": [
        "df['summary_regex3'] = df.summary.apply(letters3)\n",
        "df.summary_regex3"
      ],
      "execution_count": 24,
      "outputs": [
        {
          "output_type": "execute_result",
          "data": {
            "text/plain": [
              "0        {'no b and g': {'time', 'and', 'solid', 'perfo...\n",
              "1        {'no b and g': {'don', 'golden', 'of', 'Price'...\n",
              "2        {'no b and g': {'functionality', 'HPs', 'Good'...\n",
              "3        {'no b and g': {'last', 'the', 'One', 'of', 'a...\n",
              "4                         {'no b and g': {'Still', 'the'}}\n",
              "                               ...                        \n",
              "53253    {'no b and g': {'to', 'easy', 'and', 'Portable...\n",
              "53254    {'no b and g': {'to', 'alone', 'read', 'LCD', ...\n",
              "53255    {'no b and g': {'Extremely', 'foolproof', 'sca...\n",
              "53256    {'no b and g': {'Fast', 'and', 'Accurate', 'Ea...\n",
              "53257    {'no b and g': {'Value', 'Good', 'a', 'on', 'G...\n",
              "Name: summary_regex3, Length: 53258, dtype: object"
            ]
          },
          "metadata": {
            "tags": []
          },
          "execution_count": 24
        }
      ]
    }
  ]
}