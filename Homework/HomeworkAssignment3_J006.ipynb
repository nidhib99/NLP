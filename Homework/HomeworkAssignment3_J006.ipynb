{
  "nbformat": 4,
  "nbformat_minor": 0,
  "metadata": {
    "colab": {
      "name": "HomeworkAssignment3-J006.ipynb",
      "provenance": [],
      "collapsed_sections": [],
      "include_colab_link": true
    },
    "kernelspec": {
      "name": "python3",
      "display_name": "Python 3"
    }
  },
  "cells": [
    {
      "cell_type": "markdown",
      "metadata": {
        "id": "view-in-github",
        "colab_type": "text"
      },
      "source": [
        "<a href=\"https://colab.research.google.com/github/nidhib99/NLP/blob/master/Homework/HomeworkAssignment3_J006.ipynb\" target=\"_parent\"><img src=\"https://colab.research.google.com/assets/colab-badge.svg\" alt=\"Open In Colab\"/></a>"
      ]
    },
    {
      "cell_type": "code",
      "metadata": {
        "id": "WYM6mirbreYV",
        "colab_type": "code",
        "colab": {}
      },
      "source": [
        "import spacy\n",
        "import pandas as pd"
      ],
      "execution_count": 0,
      "outputs": []
    },
    {
      "cell_type": "code",
      "metadata": {
        "id": "DokeV28KrfvW",
        "colab_type": "code",
        "colab": {}
      },
      "source": [
        "df = pd.read_json(\"http://snap.stanford.edu/data/amazon/productGraph/categoryFiles/reviews_Office_Products_5.json.gz\", lines = True)"
      ],
      "execution_count": 0,
      "outputs": []
    },
    {
      "cell_type": "code",
      "metadata": {
        "id": "2zIWDq8QrkcN",
        "colab_type": "code",
        "colab": {}
      },
      "source": [
        "text = df[:10]"
      ],
      "execution_count": 0,
      "outputs": []
    },
    {
      "cell_type": "code",
      "metadata": {
        "id": "Rj4E7kMvxEpK",
        "colab_type": "code",
        "outputId": "99d7de33-3695-4a6d-a241-20798d0d6374",
        "colab": {
          "base_uri": "https://localhost:8080/",
          "height": 340
        }
      },
      "source": [
        "text"
      ],
      "execution_count": 5,
      "outputs": [
        {
          "output_type": "execute_result",
          "data": {
            "text/html": [
              "<div>\n",
              "<style scoped>\n",
              "    .dataframe tbody tr th:only-of-type {\n",
              "        vertical-align: middle;\n",
              "    }\n",
              "\n",
              "    .dataframe tbody tr th {\n",
              "        vertical-align: top;\n",
              "    }\n",
              "\n",
              "    .dataframe thead th {\n",
              "        text-align: right;\n",
              "    }\n",
              "</style>\n",
              "<table border=\"1\" class=\"dataframe\">\n",
              "  <thead>\n",
              "    <tr style=\"text-align: right;\">\n",
              "      <th></th>\n",
              "      <th>reviewerID</th>\n",
              "      <th>asin</th>\n",
              "      <th>reviewerName</th>\n",
              "      <th>helpful</th>\n",
              "      <th>reviewText</th>\n",
              "      <th>overall</th>\n",
              "      <th>summary</th>\n",
              "      <th>unixReviewTime</th>\n",
              "      <th>reviewTime</th>\n",
              "    </tr>\n",
              "  </thead>\n",
              "  <tbody>\n",
              "    <tr>\n",
              "      <th>0</th>\n",
              "      <td>A32T2H8150OJLU</td>\n",
              "      <td>B00000JBLH</td>\n",
              "      <td>ARH</td>\n",
              "      <td>[3, 4]</td>\n",
              "      <td>I bought my first HP12C in about 1984 or so, a...</td>\n",
              "      <td>5</td>\n",
              "      <td>A solid performer, and long time friend</td>\n",
              "      <td>1094169600</td>\n",
              "      <td>09 3, 2004</td>\n",
              "    </tr>\n",
              "    <tr>\n",
              "      <th>1</th>\n",
              "      <td>A3MAFS04ZABRGO</td>\n",
              "      <td>B00000JBLH</td>\n",
              "      <td>Let it Be \"Alan\"</td>\n",
              "      <td>[7, 9]</td>\n",
              "      <td>WHY THIS BELATED REVIEW? I feel very obliged t...</td>\n",
              "      <td>5</td>\n",
              "      <td>Price of GOLD is up, so don't bury the golden ...</td>\n",
              "      <td>1197676800</td>\n",
              "      <td>12 15, 2007</td>\n",
              "    </tr>\n",
              "    <tr>\n",
              "      <th>2</th>\n",
              "      <td>A1F1A0QQP2XVH5</td>\n",
              "      <td>B00000JBLH</td>\n",
              "      <td>Mark B</td>\n",
              "      <td>[3, 3]</td>\n",
              "      <td>I have an HP 48GX that has been kicking for mo...</td>\n",
              "      <td>2</td>\n",
              "      <td>Good functionality, but not durable like old HPs</td>\n",
              "      <td>1293840000</td>\n",
              "      <td>01 1, 2011</td>\n",
              "    </tr>\n",
              "    <tr>\n",
              "      <th>3</th>\n",
              "      <td>A49R5DBXXQDE5</td>\n",
              "      <td>B00000JBLH</td>\n",
              "      <td>R. D Johnson</td>\n",
              "      <td>[7, 8]</td>\n",
              "      <td>I've started doing more finance stuff recently...</td>\n",
              "      <td>5</td>\n",
              "      <td>One of the last of an almost extinct species</td>\n",
              "      <td>1145404800</td>\n",
              "      <td>04 19, 2006</td>\n",
              "    </tr>\n",
              "    <tr>\n",
              "      <th>4</th>\n",
              "      <td>A2XRMQA6PJ5ZJ8</td>\n",
              "      <td>B00000JBLH</td>\n",
              "      <td>Roger J. Buffington</td>\n",
              "      <td>[0, 0]</td>\n",
              "      <td>For simple calculations and discounted cash fl...</td>\n",
              "      <td>5</td>\n",
              "      <td>Still the best</td>\n",
              "      <td>1375574400</td>\n",
              "      <td>08 4, 2013</td>\n",
              "    </tr>\n",
              "    <tr>\n",
              "      <th>5</th>\n",
              "      <td>A2JFOHC9W629IE</td>\n",
              "      <td>B00000JBLH</td>\n",
              "      <td>scott_from_dallas</td>\n",
              "      <td>[10, 12]</td>\n",
              "      <td>While I don't have an MBA, it's hard to believ...</td>\n",
              "      <td>5</td>\n",
              "      <td>Every MBA student and grad should get one</td>\n",
              "      <td>1011744000</td>\n",
              "      <td>01 23, 2002</td>\n",
              "    </tr>\n",
              "    <tr>\n",
              "      <th>6</th>\n",
              "      <td>A38NELQT98S4H8</td>\n",
              "      <td>B00000JBLH</td>\n",
              "      <td>W. B. Halper</td>\n",
              "      <td>[3, 4]</td>\n",
              "      <td>I've had an HP 12C ever since they were first ...</td>\n",
              "      <td>5</td>\n",
              "      <td>A workhorse of a calculator</td>\n",
              "      <td>1168992000</td>\n",
              "      <td>01 17, 2007</td>\n",
              "    </tr>\n",
              "    <tr>\n",
              "      <th>7</th>\n",
              "      <td>AA8M6331NI1EN</td>\n",
              "      <td>B00000JBLH</td>\n",
              "      <td>ZombieMom</td>\n",
              "      <td>[0, 0]</td>\n",
              "      <td>Bought this for my boss because he lost his.  ...</td>\n",
              "      <td>5</td>\n",
              "      <td>Fast shipping &amp; great price for this awesome c...</td>\n",
              "      <td>1384387200</td>\n",
              "      <td>11 14, 2013</td>\n",
              "    </tr>\n",
              "    <tr>\n",
              "      <th>8</th>\n",
              "      <td>A25C2M3QF9G7OQ</td>\n",
              "      <td>B00000JBLU</td>\n",
              "      <td>Comdet</td>\n",
              "      <td>[3, 3]</td>\n",
              "      <td>This is a well-designed, simple calculator tha...</td>\n",
              "      <td>5</td>\n",
              "      <td>Nice design, works well, great value</td>\n",
              "      <td>1291680000</td>\n",
              "      <td>12 7, 2010</td>\n",
              "    </tr>\n",
              "    <tr>\n",
              "      <th>9</th>\n",
              "      <td>A1RTVWTWZSIC94</td>\n",
              "      <td>B00000JBLU</td>\n",
              "      <td>Hb \"Black Beauty\"</td>\n",
              "      <td>[0, 0]</td>\n",
              "      <td>I love this calculator, big numbers and calcul...</td>\n",
              "      <td>5</td>\n",
              "      <td>Love It!!!!!!!!!</td>\n",
              "      <td>1385942400</td>\n",
              "      <td>12 2, 2013</td>\n",
              "    </tr>\n",
              "  </tbody>\n",
              "</table>\n",
              "</div>"
            ],
            "text/plain": [
              "       reviewerID        asin  ... unixReviewTime   reviewTime\n",
              "0  A32T2H8150OJLU  B00000JBLH  ...     1094169600   09 3, 2004\n",
              "1  A3MAFS04ZABRGO  B00000JBLH  ...     1197676800  12 15, 2007\n",
              "2  A1F1A0QQP2XVH5  B00000JBLH  ...     1293840000   01 1, 2011\n",
              "3   A49R5DBXXQDE5  B00000JBLH  ...     1145404800  04 19, 2006\n",
              "4  A2XRMQA6PJ5ZJ8  B00000JBLH  ...     1375574400   08 4, 2013\n",
              "5  A2JFOHC9W629IE  B00000JBLH  ...     1011744000  01 23, 2002\n",
              "6  A38NELQT98S4H8  B00000JBLH  ...     1168992000  01 17, 2007\n",
              "7   AA8M6331NI1EN  B00000JBLH  ...     1384387200  11 14, 2013\n",
              "8  A25C2M3QF9G7OQ  B00000JBLU  ...     1291680000   12 7, 2010\n",
              "9  A1RTVWTWZSIC94  B00000JBLU  ...     1385942400   12 2, 2013\n",
              "\n",
              "[10 rows x 9 columns]"
            ]
          },
          "metadata": {
            "tags": []
          },
          "execution_count": 5
        }
      ]
    },
    {
      "cell_type": "code",
      "metadata": {
        "id": "j-ds2PHFsaT6",
        "colab_type": "code",
        "colab": {}
      },
      "source": [
        "nlp = spacy.load('en')"
      ],
      "execution_count": 0,
      "outputs": []
    },
    {
      "cell_type": "code",
      "metadata": {
        "id": "dUFFmPfPsufs",
        "colab_type": "code",
        "colab": {}
      },
      "source": [
        "def tokens(sentence):\n",
        "  tokens = dict()\n",
        "  tokens['tokens'] = nlp.tokenizer(sentence)\n",
        "  return tokens"
      ],
      "execution_count": 0,
      "outputs": []
    },
    {
      "cell_type": "code",
      "metadata": {
        "id": "p-8yQuhpta9M",
        "colab_type": "code",
        "outputId": "d81981d3-00d2-46ec-da6c-e2355d1ce863",
        "colab": {
          "base_uri": "https://localhost:8080/",
          "height": 124
        }
      },
      "source": [
        "text['tokens'] = text['reviewText'].apply(tokens)"
      ],
      "execution_count": 8,
      "outputs": [
        {
          "output_type": "stream",
          "text": [
            "/usr/local/lib/python3.6/dist-packages/ipykernel_launcher.py:1: SettingWithCopyWarning: \n",
            "A value is trying to be set on a copy of a slice from a DataFrame.\n",
            "Try using .loc[row_indexer,col_indexer] = value instead\n",
            "\n",
            "See the caveats in the documentation: http://pandas.pydata.org/pandas-docs/stable/user_guide/indexing.html#returning-a-view-versus-a-copy\n",
            "  \"\"\"Entry point for launching an IPython kernel.\n"
          ],
          "name": "stderr"
        }
      ]
    },
    {
      "cell_type": "code",
      "metadata": {
        "colab_type": "code",
        "outputId": "7df0abd2-4c47-4749-c0ff-ff95fb568aed",
        "id": "i2eGN2jOxRb4",
        "colab": {
          "base_uri": "https://localhost:8080/",
          "height": 212
        }
      },
      "source": [
        "text.tokens"
      ],
      "execution_count": 9,
      "outputs": [
        {
          "output_type": "execute_result",
          "data": {
            "text/plain": [
              "0    {'tokens': (I, bought, my, first, HP12C, in, a...\n",
              "1    {'tokens': (WHY, THIS, BELATED, REVIEW, ?, I, ...\n",
              "2    {'tokens': (I, have, an, HP, 48GX, that, has, ...\n",
              "3    {'tokens': (I, 've, started, doing, more, fina...\n",
              "4    {'tokens': (For, simple, calculations, and, di...\n",
              "5    {'tokens': (While, I, do, n't, have, an, MBA, ...\n",
              "6    {'tokens': (I, 've, had, an, HP, 12C, ever, si...\n",
              "7    {'tokens': (Bought, this, for, my, boss, becau...\n",
              "8    {'tokens': (This, is, a, well, -, designed, ,,...\n",
              "9    {'tokens': (I, love, this, calculator, ,, big,...\n",
              "Name: tokens, dtype: object"
            ]
          },
          "metadata": {
            "tags": []
          },
          "execution_count": 9
        }
      ]
    },
    {
      "cell_type": "code",
      "metadata": {
        "id": "vqtWLjS-xSJf",
        "colab_type": "code",
        "colab": {}
      },
      "source": [
        "nlp = spacy.load('en')\n",
        "\n",
        "def pos_tag(sentence):\n",
        "  sentence = nlp(sentence)\n",
        "  pos_tags = dict()\n",
        "  pos_tag = []\n",
        "\n",
        "  for word in sentence:\n",
        "    pos_tag.append(word.pos_)\n",
        "  \n",
        "  pos_tags['POS_TAG'] = pos_tag\n",
        "\n",
        "  return pos_tags"
      ],
      "execution_count": 0,
      "outputs": []
    },
    {
      "cell_type": "code",
      "metadata": {
        "id": "3p-gP6akxzXs",
        "colab_type": "code",
        "outputId": "8e54c515-a5f3-4347-f8c6-bf8a2e167678",
        "colab": {
          "base_uri": "https://localhost:8080/",
          "height": 124
        }
      },
      "source": [
        "text['pos_tag'] = text['reviewText'].apply(pos_tag)"
      ],
      "execution_count": 11,
      "outputs": [
        {
          "output_type": "stream",
          "text": [
            "/usr/local/lib/python3.6/dist-packages/ipykernel_launcher.py:1: SettingWithCopyWarning: \n",
            "A value is trying to be set on a copy of a slice from a DataFrame.\n",
            "Try using .loc[row_indexer,col_indexer] = value instead\n",
            "\n",
            "See the caveats in the documentation: http://pandas.pydata.org/pandas-docs/stable/user_guide/indexing.html#returning-a-view-versus-a-copy\n",
            "  \"\"\"Entry point for launching an IPython kernel.\n"
          ],
          "name": "stderr"
        }
      ]
    },
    {
      "cell_type": "code",
      "metadata": {
        "id": "_-5pgleAyGVH",
        "colab_type": "code",
        "outputId": "88e1c632-56ad-4079-e8cf-2914bb96c2fe",
        "colab": {
          "base_uri": "https://localhost:8080/",
          "height": 212
        }
      },
      "source": [
        "text['pos_tag']"
      ],
      "execution_count": 12,
      "outputs": [
        {
          "output_type": "execute_result",
          "data": {
            "text/plain": [
              "0    {'POS_TAG': ['PRON', 'VERB', 'DET', 'ADJ', 'NO...\n",
              "1    {'POS_TAG': ['ADV', 'DET', 'ADJ', 'NOUN', 'PUN...\n",
              "2    {'POS_TAG': ['PRON', 'VERB', 'DET', 'NOUN', 'N...\n",
              "3    {'POS_TAG': ['PRON', 'VERB', 'VERB', 'VERB', '...\n",
              "4    {'POS_TAG': ['ADP', 'ADJ', 'NOUN', 'CCONJ', 'V...\n",
              "5    {'POS_TAG': ['ADP', 'PRON', 'VERB', 'ADV', 'VE...\n",
              "6    {'POS_TAG': ['PRON', 'VERB', 'VERB', 'DET', 'P...\n",
              "7    {'POS_TAG': ['VERB', 'DET', 'ADP', 'DET', 'NOU...\n",
              "8    {'POS_TAG': ['DET', 'VERB', 'DET', 'ADV', 'PUN...\n",
              "9    {'POS_TAG': ['PRON', 'VERB', 'DET', 'NOUN', 'P...\n",
              "Name: pos_tag, dtype: object"
            ]
          },
          "metadata": {
            "tags": []
          },
          "execution_count": 12
        }
      ]
    },
    {
      "cell_type": "code",
      "metadata": {
        "id": "08P3f_5CyLjr",
        "colab_type": "code",
        "colab": {}
      },
      "source": [
        "def lemma(sentence):\n",
        "  sentence = nlp(sentence)\n",
        "  lemma = dict()\n",
        "  lemma1 = []\n",
        "\n",
        "  for word in sentence:\n",
        "    lemma1.append(word.lemma_)\n",
        "  \n",
        "  lemma['LEMMA'] = lemma1\n",
        "\n",
        "  return lemma"
      ],
      "execution_count": 0,
      "outputs": []
    },
    {
      "cell_type": "code",
      "metadata": {
        "id": "H3-rbOmEydF5",
        "colab_type": "code",
        "outputId": "5a3f6401-838a-495d-81dc-78684bd46056",
        "colab": {
          "base_uri": "https://localhost:8080/",
          "height": 124
        }
      },
      "source": [
        "text['LEMMA'] = text['reviewText'].apply(lemma)"
      ],
      "execution_count": 14,
      "outputs": [
        {
          "output_type": "stream",
          "text": [
            "/usr/local/lib/python3.6/dist-packages/ipykernel_launcher.py:1: SettingWithCopyWarning: \n",
            "A value is trying to be set on a copy of a slice from a DataFrame.\n",
            "Try using .loc[row_indexer,col_indexer] = value instead\n",
            "\n",
            "See the caveats in the documentation: http://pandas.pydata.org/pandas-docs/stable/user_guide/indexing.html#returning-a-view-versus-a-copy\n",
            "  \"\"\"Entry point for launching an IPython kernel.\n"
          ],
          "name": "stderr"
        }
      ]
    },
    {
      "cell_type": "code",
      "metadata": {
        "id": "7wSHJslryyeI",
        "colab_type": "code",
        "outputId": "4e57ad9b-8f55-4fc9-ef4a-ebdb01061533",
        "colab": {
          "base_uri": "https://localhost:8080/",
          "height": 212
        }
      },
      "source": [
        "text.LEMMA"
      ],
      "execution_count": 15,
      "outputs": [
        {
          "output_type": "execute_result",
          "data": {
            "text/plain": [
              "0    {'LEMMA': ['-PRON-', 'buy', '-PRON-', 'first',...\n",
              "1    {'LEMMA': ['why', 'this', 'belated', 'review',...\n",
              "2    {'LEMMA': ['-PRON-', 'have', 'an', 'hp', '48gx...\n",
              "3    {'LEMMA': ['-PRON-', 'have', 'start', 'do', 'm...\n",
              "4    {'LEMMA': ['for', 'simple', 'calculation', 'an...\n",
              "5    {'LEMMA': ['while', '-PRON-', 'do', 'not', 'ha...\n",
              "6    {'LEMMA': ['-PRON-', 'have', 'have', 'an', 'HP...\n",
              "7    {'LEMMA': ['buy', 'this', 'for', '-PRON-', 'bo...\n",
              "8    {'LEMMA': ['this', 'be', 'a', 'well', '-', 'de...\n",
              "9    {'LEMMA': ['-PRON-', 'love', 'this', 'calculat...\n",
              "Name: LEMMA, dtype: object"
            ]
          },
          "metadata": {
            "tags": []
          },
          "execution_count": 15
        }
      ]
    },
    {
      "cell_type": "code",
      "metadata": {
        "id": "jLTM9aBCy1gV",
        "colab_type": "code",
        "colab": {}
      },
      "source": [
        "def dep(sentence):\n",
        "  sentence = nlp(sentence)\n",
        "  dependency = dict()\n",
        "  depend = []\n",
        "\n",
        "  for word in sentence:\n",
        "    depend.append(word.dep_)\n",
        "  \n",
        "  dependency['depends'] = depend\n",
        "\n",
        "  return dependency"
      ],
      "execution_count": 0,
      "outputs": []
    },
    {
      "cell_type": "code",
      "metadata": {
        "id": "PduwcMcmzTWT",
        "colab_type": "code",
        "outputId": "4010464c-3ed5-4373-e2ee-50ebadb83204",
        "colab": {
          "base_uri": "https://localhost:8080/",
          "height": 124
        }
      },
      "source": [
        "text['Dependency'] = text['reviewText'].apply(dep)"
      ],
      "execution_count": 17,
      "outputs": [
        {
          "output_type": "stream",
          "text": [
            "/usr/local/lib/python3.6/dist-packages/ipykernel_launcher.py:1: SettingWithCopyWarning: \n",
            "A value is trying to be set on a copy of a slice from a DataFrame.\n",
            "Try using .loc[row_indexer,col_indexer] = value instead\n",
            "\n",
            "See the caveats in the documentation: http://pandas.pydata.org/pandas-docs/stable/user_guide/indexing.html#returning-a-view-versus-a-copy\n",
            "  \"\"\"Entry point for launching an IPython kernel.\n"
          ],
          "name": "stderr"
        }
      ]
    },
    {
      "cell_type": "code",
      "metadata": {
        "id": "V29BvWC1zY2D",
        "colab_type": "code",
        "outputId": "6228a8b2-d05c-41a8-edcd-f907f1516bd7",
        "colab": {
          "base_uri": "https://localhost:8080/",
          "height": 212
        }
      },
      "source": [
        "text.Dependency"
      ],
      "execution_count": 18,
      "outputs": [
        {
          "output_type": "execute_result",
          "data": {
            "text/plain": [
              "0    {'depends': ['nsubj', 'ROOT', 'poss', 'amod', ...\n",
              "1    {'depends': ['advmod', 'nsubj', 'ROOT', 'dobj'...\n",
              "2    {'depends': ['nsubj', 'ROOT', 'det', 'dobj', '...\n",
              "3    {'depends': ['nsubj', 'aux', 'ROOT', 'xcomp', ...\n",
              "4    {'depends': ['prep', 'amod', 'pobj', 'cc', 'co...\n",
              "5    {'depends': ['mark', 'nsubj', 'aux', 'neg', 'a...\n",
              "6    {'depends': ['nsubj', 'aux', 'ROOT', 'det', 'c...\n",
              "7    {'depends': ['ROOT', 'dobj', 'prep', 'poss', '...\n",
              "8    {'depends': ['nsubj', 'ROOT', 'det', 'advmod',...\n",
              "9    {'depends': ['nsubj', 'ROOT', 'det', 'dobj', '...\n",
              "Name: Dependency, dtype: object"
            ]
          },
          "metadata": {
            "tags": []
          },
          "execution_count": 18
        }
      ]
    },
    {
      "cell_type": "code",
      "metadata": {
        "id": "htsf3zj0z5_Y",
        "colab_type": "code",
        "colab": {}
      },
      "source": [
        "def noun(sentence):\n",
        "  sentence = nlp(sentence)\n",
        "  nouns = dict()  \n",
        "  noun = []\n",
        "\n",
        "  for word in sentence.noun_chunks:\n",
        "    noun.append(word.text)\n",
        "  \n",
        "  nouns['noun'] = noun\n",
        "\n",
        "  return nouns"
      ],
      "execution_count": 0,
      "outputs": []
    },
    {
      "cell_type": "code",
      "metadata": {
        "id": "motRI1g61fg7",
        "colab_type": "code",
        "outputId": "14332af8-3a04-4871-be74-bbaea4cb1ace",
        "colab": {
          "base_uri": "https://localhost:8080/",
          "height": 124
        }
      },
      "source": [
        "text['NOUN'] = text['reviewText'].apply(noun)"
      ],
      "execution_count": 20,
      "outputs": [
        {
          "output_type": "stream",
          "text": [
            "/usr/local/lib/python3.6/dist-packages/ipykernel_launcher.py:1: SettingWithCopyWarning: \n",
            "A value is trying to be set on a copy of a slice from a DataFrame.\n",
            "Try using .loc[row_indexer,col_indexer] = value instead\n",
            "\n",
            "See the caveats in the documentation: http://pandas.pydata.org/pandas-docs/stable/user_guide/indexing.html#returning-a-view-versus-a-copy\n",
            "  \"\"\"Entry point for launching an IPython kernel.\n"
          ],
          "name": "stderr"
        }
      ]
    },
    {
      "cell_type": "code",
      "metadata": {
        "id": "RznAIlWs1m0F",
        "colab_type": "code",
        "outputId": "860b02f3-e65e-4e38-8f69-83394d76491c",
        "colab": {
          "base_uri": "https://localhost:8080/",
          "height": 212
        }
      },
      "source": [
        "text.NOUN"
      ],
      "execution_count": 21,
      "outputs": [
        {
          "output_type": "execute_result",
          "data": {
            "text/plain": [
              "0    {'noun': ['I', 'my first HP12C', 'it', 'me', '...\n",
              "1    {'noun': ['REVIEW', 'I', 'my views', 'this old...\n",
              "2    {'noun': ['I', 'an HP', 'more than twenty year...\n",
              "3    {'noun': ['I', 'more finance stuff', 'money', ...\n",
              "4    {'noun': ['simple calculations', 'cash flows',...\n",
              "5    {'noun': ['I', 'an MBA', 'it', 'a calculator',...\n",
              "6    {'noun': ['I', 'they', 'I', 'the process', 'an...\n",
              "7    {'noun': ['my boss', 'he', 'his', 'He', 'this ...\n",
              "8    {'noun': ['a well-designed, simple calculator'...\n",
              "9    {'noun': ['I', 'this calculator', 'big numbers...\n",
              "Name: NOUN, dtype: object"
            ]
          },
          "metadata": {
            "tags": []
          },
          "execution_count": 21
        }
      ]
    }
  ]
}